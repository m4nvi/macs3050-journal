{
 "cells": [
  {
   "cell_type": "raw",
   "id": "a749feb3-2e13-4fa6-8d54-0d1956fb3772",
   "metadata": {},
   "source": [
    "---\n",
    "title: \"Color Survey Analysis\"\n",
    "author:\n",
    "  - name: \"Eli Michaud\"\n",
    "    email: \"eli@michaud.dev\"\n",
    "    affiliation:\n",
    "      - name: The American University of Paris\n",
    "        city: Paris\n",
    "        country: France\n",
    "        url: https://aup.edu\n",
    "date: 2025-09-26\n",
    "format:\n",
    "    html:\n",
    "        code-fold: true\n",
    "        theme: sketchy\n",
    "---"
   ]
  },
  {
   "cell_type": "markdown",
   "id": "703207f9",
   "metadata": {},
   "source": [
    "## Introduction\n",
    "\n",
    "### Context\n",
    "I aim to analyze the results from the [xkcd Color Survey](https://github.com/rfordatascience/tidytuesday/blob/main/data/2025/2025-07-08/readme.md).\n",
    "The survey was taken in 2010, got hundreds of thousands of responses, and asked respondents to name colors they saw with the goal of\n",
    "\"revealing the different ways in which people perceive and label colors\".\n",
    "\n",
    "### Question to answer\n",
    "* Is there any significant difference between groups in their categorization of colors?\n",
    "* If so, can the groups be found and labelled?\n",
    "* Who is the most and least accurate?\n",
    "* Are certain groups more likely to more specific in the names they give colors?\n",
    "* Which colors are mentioned most?\n",
    "\n",
    "### Data\n",
    "There are three tables in the dataset. The variables we are given are:\n",
    "\n",
    "* Answers table (answers.csv):\\\n",
    "  `user-id`: ID of the user who gave the answer\\\n",
    "  `hex`: Hex color code shown to the user\\\n",
    "  `rank`: \"Rank of the color\" that the user gave as an answer (i.e. a foreign key into the \"color_ranks\" table).\n",
    "\n",
    "* Colors (color_ranks.csv):\\\n",
    "  `color`: The name of the color\\\n",
    "  `rank`: Rank of the color\\\n",
    "  `hex`: Hex code of the color\n",
    "\n",
    "* Users (users.csv):\\\n",
    "  `user_id`: Self explanatory\\\n",
    "  `monitor`: User's monitor type\\\n",
    "  `y_chromosome`: Whether the user reported as having a y chromosome or not.\\\n",
    "  `colorblind`: Whether the user reported as being colorblind or not.\\\n",
    "  `spam_prob`: Probability of user being a spam user (0-1).\n"
   ]
  },
  {
   "cell_type": "markdown",
   "id": "85c1b1d6a4b98652",
   "metadata": {},
   "source": [
    "## Simple data exploration"
   ]
  },
  {
   "cell_type": "code",
   "execution_count": 1,
   "id": "43ede933bbedcb07",
   "metadata": {
    "ExecuteTime": {
     "end_time": "2025-09-22T07:04:23.756282Z",
     "start_time": "2025-09-22T07:04:23.442366Z"
    }
   },
   "outputs": [],
   "source": [
    "import pandas as pd\n",
    "import numpy as np"
   ]
  },
  {
   "cell_type": "code",
   "execution_count": 2,
   "id": "78b994afbe4fcfbd",
   "metadata": {
    "ExecuteTime": {
     "end_time": "2025-09-22T07:55:35.769793Z",
     "start_time": "2025-09-22T07:55:33.833890Z"
    }
   },
   "outputs": [],
   "source": [
    "# Get data\n",
    "answers = pd.read_csv(\"https://raw.githubusercontent.com/rfordatascience/tidytuesday/main/data/2025/2025-07-08/answers.csv\")\n",
    "color_ranks = pd.read_csv(\"https://raw.githubusercontent.com/rfordatascience/tidytuesday/main/data/2025/2025-07-08/color_ranks.csv\")\n",
    "users = pd.read_csv(\"https://raw.githubusercontent.com/rfordatascience/tidytuesday/main/data/2025/2025-07-08/users.csv\")\n",
    "\n",
    "# Clean data\n",
    "color_ranks = color_ranks.set_index('rank')\n",
    "users = users.set_index('user_id').astype({'y_chromosome': 'bool',\n",
    "                                           'colorblind': 'bool'})"
   ]
  },
  {
   "cell_type": "code",
   "execution_count": 3,
   "id": "cc54ec0b050ae671",
   "metadata": {
    "ExecuteTime": {
     "end_time": "2025-09-22T08:04:50.324635Z",
     "start_time": "2025-09-22T08:04:50.300697Z"
    }
   },
   "outputs": [
    {
     "name": "stdout",
     "output_type": "stream",
     "text": [
      "Purple hex value: #7E1E9C\n"
     ]
    },
    {
     "data": {
      "text/html": [
       "<div>\n",
       "<style scoped>\n",
       "    .dataframe tbody tr th:only-of-type {\n",
       "        vertical-align: middle;\n",
       "    }\n",
       "\n",
       "    .dataframe tbody tr th {\n",
       "        vertical-align: top;\n",
       "    }\n",
       "\n",
       "    .dataframe thead th {\n",
       "        text-align: right;\n",
       "    }\n",
       "</style>\n",
       "<table border=\"1\" class=\"dataframe\">\n",
       "  <thead>\n",
       "    <tr style=\"text-align: right;\">\n",
       "      <th></th>\n",
       "      <th>user_id</th>\n",
       "      <th>hex</th>\n",
       "      <th>rank</th>\n",
       "    </tr>\n",
       "  </thead>\n",
       "  <tbody>\n",
       "    <tr>\n",
       "      <th>0</th>\n",
       "      <td>1</td>\n",
       "      <td>#8240EA</td>\n",
       "      <td>1</td>\n",
       "    </tr>\n",
       "    <tr>\n",
       "      <th>4</th>\n",
       "      <td>2</td>\n",
       "      <td>#B343E5</td>\n",
       "      <td>1</td>\n",
       "    </tr>\n",
       "    <tr>\n",
       "      <th>8</th>\n",
       "      <td>4</td>\n",
       "      <td>#9A2A9F</td>\n",
       "      <td>1</td>\n",
       "    </tr>\n",
       "    <tr>\n",
       "      <th>14</th>\n",
       "      <td>6</td>\n",
       "      <td>#74324C</td>\n",
       "      <td>1</td>\n",
       "    </tr>\n",
       "    <tr>\n",
       "      <th>18</th>\n",
       "      <td>7</td>\n",
       "      <td>#BA75ED</td>\n",
       "      <td>1</td>\n",
       "    </tr>\n",
       "  </tbody>\n",
       "</table>\n",
       "</div>"
      ],
      "text/plain": [
       "    user_id      hex  rank\n",
       "0         1  #8240EA     1\n",
       "4         2  #B343E5     1\n",
       "8         4  #9A2A9F     1\n",
       "14        6  #74324C     1\n",
       "18        7  #BA75ED     1"
      ]
     },
     "execution_count": 3,
     "metadata": {},
     "output_type": "execute_result"
    }
   ],
   "source": [
    "# Example for purple\n",
    "purple_rank = 1\n",
    "purple_real_hex = color_ranks['hex'].loc[purple_rank].upper()\n",
    "print(\"Purple hex value: \" + purple_real_hex)\n",
    "\n",
    "# Colors that people named purple\n",
    "purple_answers = answers[answers['rank'] == purple_rank]\n",
    "purple_answers.head()\n"
   ]
  },
  {
   "cell_type": "markdown",
   "id": "5ac34e8536c6ee16",
   "metadata": {},
   "source": [
    "## Your new shiny data visualization\n",
    "\n",
    "### Explain what you show, might require math\n",
    "- I might need to average colors: how is this defined?\n",
    "- I might need to choose colors that are \"close\" to another color, or sort them into groups: how?\n",
    "- To group people by answers, I can use k-means clustering."
   ]
  },
  {
   "cell_type": "markdown",
   "id": "ef2f5171-6c6d-4730-bbd0-7ffdb92e4b3c",
   "metadata": {},
   "source": [
    "### Show"
   ]
  },
  {
   "cell_type": "code",
   "execution_count": 12,
   "id": "d23d0a3d-e77c-43f7-9a26-583f83bf98df",
   "metadata": {},
   "outputs": [
    {
     "data": {
      "text/plain": [
       "<Axes: xlabel='group'>"
      ]
     },
     "execution_count": 12,
     "metadata": {},
     "output_type": "execute_result"
    },
    {
     "data": {
      "image/png": "[encoded data removed]",
      "text/plain": [
       "<Figure size 640x480 with 1 Axes>"
      ]
     },
     "metadata": {},
     "output_type": "display_data"
    }
   ],
   "source": [
    "# | label: fig-super-simple-example-figure\n",
    "# | fig-cap: In the real analysis the height of the bar would coorespond to the number of answers\n",
    "egdf = pd.DataFrame({'group': [1, 2, 3, 4, 5], 'val': [5, 5, 5, 5, 5]})\n",
    "egdf.plot.bar(x='group', y='val', color=purple_answers['hex'], legend=False)"
   ]
  },
  {
   "cell_type": "markdown",
   "id": "38fbf8645fede618",
   "metadata": {},
   "source": [
    "### Comment\n",
    "See the above figure! (@fig-super-simple-example-figure)\n",
    "\n",
    "\n",
    "## Conclusion"
   ]
  }
 ],
 "metadata": {
  "kernelspec": {
   "display_name": "Python 3 (ipykernel)",
   "language": "python",
   "name": "python3"
  },
  "language_info": {
   "codemirror_mode": {
    "name": "ipython",
    "version": 3
   },
   "file_extension": ".py",
   "mimetype": "text/x-python",
   "name": "python",
   "nbconvert_exporter": "python",
   "pygments_lexer": "ipython3",
   "version": "3.12.4"
  }
 },
 "nbformat": 4,
 "nbformat_minor": 5
}

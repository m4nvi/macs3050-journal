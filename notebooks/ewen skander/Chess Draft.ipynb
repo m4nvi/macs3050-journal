{
 "cells": [
  {
   "cell_type": "raw",
   "id": "09f0a9fe-c9c9-4b20-bc54-0d93c7119377",
   "metadata": {},
   "source": [
    "---\n",
    "title: \"Skander and Ewen's Chess file\"\n",
    "author: \"EwenMeister\"\n",
    "date: today\n",
    "format: \n",
    "  html:\n",
    "    code-fold: true\n",
    "    theme: lux\n",
    "---"
   ]
  },
  {
   "cell_type": "code",
   "execution_count": null,
   "id": "a9ae3a72",
   "metadata": {},
   "outputs": [],
   "source": [
    "import pandas as pd\n",
    "import matplotlib.pyplot as plt\n",
    "import seaborn as sns\n",
    "import numpy as np"
   ]
  },
  {
   "cell_type": "code",
   "execution_count": 18,
   "id": "ff149056",
   "metadata": {},
   "outputs": [],
   "source": [
    "\n",
    "#Chess Player August and September Data Import\n",
    "fide_ratings_august = pd.read_csv('fide_ratings_august.csv')\n",
    "fide_ratings_september = pd.read_csv('fide_ratings_september.csv')"
   ]
  },
  {
   "cell_type": "markdown",
   "id": "4dc056d4",
   "metadata": {},
   "source": [
    "<h1>Abstract</h1>"
   ]
  },
  {
   "cell_type": "markdown",
   "id": "84e30eb4",
   "metadata": {},
   "source": [
    "<p>In this project, we will present the biographies of the top 3 current chess players. In addition to that, multiple graphs depicting the ranking of all current chess players, per age and country. The graphs we will attempt making are an interactive map, and a simple interactive histogram regrouping the data of ranking per age of the player. A possible idea would be to make (if possible) another final fun interaction similar to the akinator game but with only chess players</p>"
   ]
  },
  {
   "cell_type": "markdown",
   "id": "4e6c754f",
   "metadata": {},
   "source": [
    "<h3>Magnus Carlsen</h3>"
   ]
  },
  {
   "cell_type": "markdown",
   "id": "5e16c044",
   "metadata": {},
   "source": [
    "<p>Magnus Carlsen, born in 1990 in Norway, is a former World Chess Champion and one of the greatest players in history. Known for his universal style, he has been ranked world number one for over a decade and has held the highest peak rating ever recorded. Carlsen has won multiple World Championship titles in classical, rapid, and blitz, and continues to dominate elite tournaments worldwide.</p>"
   ]
  },
  {
   "cell_type": "markdown",
   "id": "d5681a26",
   "metadata": {},
   "source": [
    "<figure>\n",
    "  <img src=\"https://thebrewnews.com/wp-content/uploads/2025/06/Magnus-Carlsen-Wins-Record-7th-Norway-Chess-Title.jpg\" alt=\"Magnus Carlsen wins Norway Chess 7th time\">\n",
    "  <figcaption>This is Magnus Carlsen winning the Norway Chess tournament and claiming the title for a 7th time!</figcaption>\n",
    "</figure>\n"
   ]
  },
  {
   "cell_type": "markdown",
   "id": "326783f8",
   "metadata": {},
   "source": [
    "<h3>Gukesh D</h3>"
   ]
  },
  {
   "cell_type": "markdown",
   "id": "d408f510",
   "metadata": {},
   "source": [
    "<p>Dommaraju Gukesh, commonly known as Gukesh D, is an Indian chess prodigy born in 2006. He became a grandmaster at the age of 12, one of the youngest in history. In 2023, he broke into the world’s top 10, surpassing Viswanathan Anand as India’s number one. Gukesh is admired for his fearless attacking style and is considered one of the brightest stars of the new generation.</p>"
   ]
  },
  {
   "cell_type": "markdown",
   "id": "13706c88",
   "metadata": {},
   "source": [
    "<figure>\n",
    "  <img src=\"https://images.chesscomfiles.com/uploads/v1/images_users/tiny_mce/AnthonyLevin/php0qqLXE.jpg\" alt=\"Gukesh's recent match against Magnus Carlsen\">\n",
    "  <figcaption>Gukesh's recent match against Magnus Carlsen</figcaption>\n",
    "</figure>"
   ]
  },
  {
   "cell_type": "markdown",
   "id": "32b37fb3",
   "metadata": {},
   "source": [
    "<h3>Hikaru Nakamura</h3>"
   ]
  },
  {
   "cell_type": "markdown",
   "id": "082f3743",
   "metadata": {},
   "source": [
    "<p>Hikaru Nakamura, born in 1987 in Japan and raised in the United States, is a five-time U.S. Chess Champion and one of the most popular figures in modern chess. Known for his sharp tactical play and creativity, Nakamura has been a top-10 player for many years. Beyond classical chess, he is widely recognized as the world’s leading blitz and bullet player, and has a massive online following through streaming and content creation.</p>"
   ]
  },
  {
   "cell_type": "markdown",
   "id": "d84ef1cd",
   "metadata": {},
   "source": [
    "<figure>\n",
    "  <img src=\"https://app.fide.com/upload/14568/4efdd2f969559e8b1c92e99f32ded48e.jpg\" alt=\"Hikaru Nakamura wins first leg of FIDE Grand Prix 2022\">\n",
    "  <figcaption>Hikaru Nakamura wins first leg of FIDE Grand Prix 2022</figcaption>\n",
    "</figure>"
   ]
  },
  {
   "cell_type": "markdown",
   "id": "ef07b3b1",
   "metadata": {},
   "source": [
    "<p style=\"margin-top:2rem;font-size:0.9rem;color:#888;\">\n",
    "  P.S. I’m still learning how to extract data from the CSV files and weave it into the text, and I’m also starting to learn about machine learning.\n",
    "</p>"
   ]
  }
 ],
 "metadata": {
  "kernelspec": {
   "display_name": "Python 3 (ipykernel)",
   "language": "python",
   "name": "python3"
  },
  "language_info": {
   "codemirror_mode": {
    "name": "ipython",
    "version": 3
   },
   "file_extension": ".py",
   "mimetype": "text/x-python",
   "name": "python",
   "nbconvert_exporter": "python",
   "pygments_lexer": "ipython3",
   "version": "3.12.2"
  }
 },
 "nbformat": 4,
 "nbformat_minor": 5
}

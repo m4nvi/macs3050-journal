{
 "cells": [
  {
   "cell_type": "raw",
   "id": "3a540526-392b-4c4d-a0f6-81f5b96f73ef",
   "metadata": {
    "vscode": {
     "languageId": "raw"
    }
   },
   "source": [
    "---\n",
    "title: \"The coffee question\"\n",
    "author: \"Paris Jalloh\"\n",
    "date: today\n",
    "format:\n",
    "    html:\n",
    "        code-fold: true\n",
    "        theme: lux\n",
    "---"
   ]
  },
  {
   "cell_type": "markdown",
   "id": "d3c30925-3810-4fa4-b534-d5dbf02e187a",
   "metadata": {},
   "source": [
    "# How does America actually like their coffee?"
   ]
  },
  {
   "cell_type": "markdown",
   "id": "ee670acd-4295-4e14-a141-6da81d6c18da",
   "metadata": {},
   "source": [
    "## Context\n",
    "This notebook explores the **Great American Coffee Taste Test** survey. We'll check whether **stated roast preferences** align with **blind tasting choices**, plus a quick EDA. We will also be exploring the connection between coffee preference and where people drink their coffee? Do home brewed consumers like a simpler homey roast like their environment or share the sugary sweet preferences of cafe goers? "
   ]
  },
  {
   "cell_type": "markdown",
   "id": "ce27b9cb-2091-45f7-99b3-0cb6bb9f90b6",
   "metadata": {},
   "source": [
    "## Questions\n",
    "**Do tasters' stated roast preferences align with what they actually chose in the blind test?**\n",
    "**What are the coffee trends based on environment?**"
   ]
  },
  {
   "cell_type": "markdown",
   "id": "b693b780-f4ee-4996-8352-eaae2bbd1a16",
   "metadata": {},
   "source": [
    "## Data"
   ]
  },
  {
   "cell_type": "markdown",
   "id": "c07b7444",
   "metadata": {},
   "source": [
    "**The data set from the Great American Coffee Tast Test survey is a collection of the coffee preferences of surveyers. The questions explore topics such as roast, environment, political party, and education.**"
   ]
  },
  {
   "cell_type": "code",
   "execution_count": 7,
   "id": "547d29cb-6436-4529-95d6-f5b5dd5109b0",
   "metadata": {},
   "outputs": [
    {
     "data": {
      "text/html": [
       "<div>\n",
       "<style scoped>\n",
       "    .dataframe tbody tr th:only-of-type {\n",
       "        vertical-align: middle;\n",
       "    }\n",
       "\n",
       "    .dataframe tbody tr th {\n",
       "        vertical-align: top;\n",
       "    }\n",
       "\n",
       "    .dataframe thead th {\n",
       "        text-align: right;\n",
       "    }\n",
       "</style>\n",
       "<table border=\"1\" class=\"dataframe\">\n",
       "  <thead>\n",
       "    <tr style=\"text-align: right;\">\n",
       "      <th></th>\n",
       "      <th>Submission ID</th>\n",
       "      <th>What is your age?</th>\n",
       "      <th>How many cups of coffee do you typically drink per day?</th>\n",
       "      <th>Where do you typically drink coffee?</th>\n",
       "      <th>Where do you typically drink coffee? (At home)</th>\n",
       "      <th>Where do you typically drink coffee? (At the office)</th>\n",
       "      <th>Where do you typically drink coffee? (On the go)</th>\n",
       "      <th>Where do you typically drink coffee? (At a cafe)</th>\n",
       "      <th>Where do you typically drink coffee? (None of these)</th>\n",
       "      <th>How do you brew coffee at home?</th>\n",
       "      <th>...</th>\n",
       "      <th>Approximately how much have you spent on coffee equipment in the past 5 years?</th>\n",
       "      <th>Do you feel like you’re getting good value for your money with regards to your coffee equipment?</th>\n",
       "      <th>Gender</th>\n",
       "      <th>Gender (please specify)</th>\n",
       "      <th>Education Level</th>\n",
       "      <th>Ethnicity/Race</th>\n",
       "      <th>Ethnicity/Race (please specify)</th>\n",
       "      <th>Employment Status</th>\n",
       "      <th>Number of Children</th>\n",
       "      <th>Political Affiliation</th>\n",
       "    </tr>\n",
       "  </thead>\n",
       "  <tbody>\n",
       "    <tr>\n",
       "      <th>0</th>\n",
       "      <td>gMR29l</td>\n",
       "      <td>18-24 years old</td>\n",
       "      <td>NaN</td>\n",
       "      <td>NaN</td>\n",
       "      <td>NaN</td>\n",
       "      <td>NaN</td>\n",
       "      <td>NaN</td>\n",
       "      <td>NaN</td>\n",
       "      <td>NaN</td>\n",
       "      <td>NaN</td>\n",
       "      <td>...</td>\n",
       "      <td>NaN</td>\n",
       "      <td>NaN</td>\n",
       "      <td>NaN</td>\n",
       "      <td>NaN</td>\n",
       "      <td>NaN</td>\n",
       "      <td>NaN</td>\n",
       "      <td>NaN</td>\n",
       "      <td>NaN</td>\n",
       "      <td>NaN</td>\n",
       "      <td>NaN</td>\n",
       "    </tr>\n",
       "    <tr>\n",
       "      <th>1</th>\n",
       "      <td>BkPN0e</td>\n",
       "      <td>25-34 years old</td>\n",
       "      <td>NaN</td>\n",
       "      <td>NaN</td>\n",
       "      <td>NaN</td>\n",
       "      <td>NaN</td>\n",
       "      <td>NaN</td>\n",
       "      <td>NaN</td>\n",
       "      <td>NaN</td>\n",
       "      <td>Pod/capsule machine (e.g. Keurig/Nespresso)</td>\n",
       "      <td>...</td>\n",
       "      <td>NaN</td>\n",
       "      <td>NaN</td>\n",
       "      <td>NaN</td>\n",
       "      <td>NaN</td>\n",
       "      <td>NaN</td>\n",
       "      <td>NaN</td>\n",
       "      <td>NaN</td>\n",
       "      <td>NaN</td>\n",
       "      <td>NaN</td>\n",
       "      <td>NaN</td>\n",
       "    </tr>\n",
       "    <tr>\n",
       "      <th>2</th>\n",
       "      <td>W5G8jj</td>\n",
       "      <td>25-34 years old</td>\n",
       "      <td>NaN</td>\n",
       "      <td>NaN</td>\n",
       "      <td>NaN</td>\n",
       "      <td>NaN</td>\n",
       "      <td>NaN</td>\n",
       "      <td>NaN</td>\n",
       "      <td>NaN</td>\n",
       "      <td>Bean-to-cup machine</td>\n",
       "      <td>...</td>\n",
       "      <td>NaN</td>\n",
       "      <td>NaN</td>\n",
       "      <td>NaN</td>\n",
       "      <td>NaN</td>\n",
       "      <td>NaN</td>\n",
       "      <td>NaN</td>\n",
       "      <td>NaN</td>\n",
       "      <td>NaN</td>\n",
       "      <td>NaN</td>\n",
       "      <td>NaN</td>\n",
       "    </tr>\n",
       "    <tr>\n",
       "      <th>3</th>\n",
       "      <td>4xWgGr</td>\n",
       "      <td>35-44 years old</td>\n",
       "      <td>NaN</td>\n",
       "      <td>NaN</td>\n",
       "      <td>NaN</td>\n",
       "      <td>NaN</td>\n",
       "      <td>NaN</td>\n",
       "      <td>NaN</td>\n",
       "      <td>NaN</td>\n",
       "      <td>Coffee brewing machine (e.g. Mr. Coffee)</td>\n",
       "      <td>...</td>\n",
       "      <td>NaN</td>\n",
       "      <td>NaN</td>\n",
       "      <td>NaN</td>\n",
       "      <td>NaN</td>\n",
       "      <td>NaN</td>\n",
       "      <td>NaN</td>\n",
       "      <td>NaN</td>\n",
       "      <td>NaN</td>\n",
       "      <td>NaN</td>\n",
       "      <td>NaN</td>\n",
       "    </tr>\n",
       "    <tr>\n",
       "      <th>4</th>\n",
       "      <td>QD27Q8</td>\n",
       "      <td>25-34 years old</td>\n",
       "      <td>NaN</td>\n",
       "      <td>NaN</td>\n",
       "      <td>NaN</td>\n",
       "      <td>NaN</td>\n",
       "      <td>NaN</td>\n",
       "      <td>NaN</td>\n",
       "      <td>NaN</td>\n",
       "      <td>Pour over</td>\n",
       "      <td>...</td>\n",
       "      <td>NaN</td>\n",
       "      <td>NaN</td>\n",
       "      <td>NaN</td>\n",
       "      <td>NaN</td>\n",
       "      <td>NaN</td>\n",
       "      <td>NaN</td>\n",
       "      <td>NaN</td>\n",
       "      <td>NaN</td>\n",
       "      <td>NaN</td>\n",
       "      <td>NaN</td>\n",
       "    </tr>\n",
       "  </tbody>\n",
       "</table>\n",
       "<p>5 rows × 113 columns</p>\n",
       "</div>"
      ],
      "text/plain": [
       "  Submission ID What is your age?  \\\n",
       "0        gMR29l   18-24 years old   \n",
       "1        BkPN0e   25-34 years old   \n",
       "2        W5G8jj   25-34 years old   \n",
       "3        4xWgGr   35-44 years old   \n",
       "4        QD27Q8   25-34 years old   \n",
       "\n",
       "  How many cups of coffee do you typically drink per day?  \\\n",
       "0                                                NaN        \n",
       "1                                                NaN        \n",
       "2                                                NaN        \n",
       "3                                                NaN        \n",
       "4                                                NaN        \n",
       "\n",
       "  Where do you typically drink coffee?  \\\n",
       "0                                  NaN   \n",
       "1                                  NaN   \n",
       "2                                  NaN   \n",
       "3                                  NaN   \n",
       "4                                  NaN   \n",
       "\n",
       "  Where do you typically drink coffee? (At home)  \\\n",
       "0                                            NaN   \n",
       "1                                            NaN   \n",
       "2                                            NaN   \n",
       "3                                            NaN   \n",
       "4                                            NaN   \n",
       "\n",
       "  Where do you typically drink coffee? (At the office)  \\\n",
       "0                                                NaN     \n",
       "1                                                NaN     \n",
       "2                                                NaN     \n",
       "3                                                NaN     \n",
       "4                                                NaN     \n",
       "\n",
       "  Where do you typically drink coffee? (On the go)  \\\n",
       "0                                              NaN   \n",
       "1                                              NaN   \n",
       "2                                              NaN   \n",
       "3                                              NaN   \n",
       "4                                              NaN   \n",
       "\n",
       "  Where do you typically drink coffee? (At a cafe)  \\\n",
       "0                                              NaN   \n",
       "1                                              NaN   \n",
       "2                                              NaN   \n",
       "3                                              NaN   \n",
       "4                                              NaN   \n",
       "\n",
       "  Where do you typically drink coffee? (None of these)  \\\n",
       "0                                                NaN     \n",
       "1                                                NaN     \n",
       "2                                                NaN     \n",
       "3                                                NaN     \n",
       "4                                                NaN     \n",
       "\n",
       "               How do you brew coffee at home?  ...  \\\n",
       "0                                          NaN  ...   \n",
       "1  Pod/capsule machine (e.g. Keurig/Nespresso)  ...   \n",
       "2                          Bean-to-cup machine  ...   \n",
       "3     Coffee brewing machine (e.g. Mr. Coffee)  ...   \n",
       "4                                    Pour over  ...   \n",
       "\n",
       "  Approximately how much have you spent on coffee equipment in the past 5 years?  \\\n",
       "0                                                NaN                               \n",
       "1                                                NaN                               \n",
       "2                                                NaN                               \n",
       "3                                                NaN                               \n",
       "4                                                NaN                               \n",
       "\n",
       "  Do you feel like you’re getting good value for your money with regards to your coffee equipment?  \\\n",
       "0                                                NaN                                                 \n",
       "1                                                NaN                                                 \n",
       "2                                                NaN                                                 \n",
       "3                                                NaN                                                 \n",
       "4                                                NaN                                                 \n",
       "\n",
       "  Gender Gender (please specify) Education Level Ethnicity/Race  \\\n",
       "0    NaN                     NaN             NaN            NaN   \n",
       "1    NaN                     NaN             NaN            NaN   \n",
       "2    NaN                     NaN             NaN            NaN   \n",
       "3    NaN                     NaN             NaN            NaN   \n",
       "4    NaN                     NaN             NaN            NaN   \n",
       "\n",
       "  Ethnicity/Race (please specify) Employment Status Number of Children  \\\n",
       "0                             NaN               NaN                NaN   \n",
       "1                             NaN               NaN                NaN   \n",
       "2                             NaN               NaN                NaN   \n",
       "3                             NaN               NaN                NaN   \n",
       "4                             NaN               NaN                NaN   \n",
       "\n",
       "  Political Affiliation  \n",
       "0                   NaN  \n",
       "1                   NaN  \n",
       "2                   NaN  \n",
       "3                   NaN  \n",
       "4                   NaN  \n",
       "\n",
       "[5 rows x 113 columns]"
      ]
     },
     "execution_count": 7,
     "metadata": {},
     "output_type": "execute_result"
    }
   ],
   "source": [
    "import pandas as pd\n",
    "import matplotlib.pyplot as plt\n",
    "df = pd.read_csv(\"coffeedata.csv\")\n",
    "df.head()"
   ]
  },
  {
   "cell_type": "markdown",
   "id": "8c5c993b",
   "metadata": {},
   "source": [
    "# Roast Preference Analysis\n",
    "\n",
    "Understanding roast preferences is central to interpreting how people experience and choose coffee.  \n",
    "Roast level directly influences flavor, aroma, acidity, and mouthfeel — which in turn affect how individuals perceive “brightness,” “bitterness,” and “sweetness.”\n",
    "\n",
    "In this section, we compare participants’ **claimed roast preference** (Light, Medium, Dark, etc.) to their **blind taste test favorite**.  \n",
    "The goal is to see whether participants’ stated preferences align with their actual tasting behavior.  \n",
    "For instance, someone who claims to prefer dark roasts may, in a blind test, choose a lighter, fruitier cup — revealing either a perceptual bias or an unrecognized taste tendency.\n"
   ]
  },
  {
   "cell_type": "code",
   "execution_count": 10,
   "id": "2a10c0d0",
   "metadata": {},
   "outputs": [
    {
     "data": {
      "image/png": "[encoded data removed]",
      "text/plain": [
       "<Figure size 640x480 with 1 Axes>"
      ]
     },
     "metadata": {},
     "output_type": "display_data"
    }
   ],
   "source": [
    "df[\"Before today's tasting, which of the following best described what kind of coffee you like?\"].value_counts().plot(kind=\"bar\")\n",
    "plt.title(\"Stated Coffee Description Preference\")\n",
    "plt.xlabel(\"Description\")\n",
    "plt.ylabel(\"Number of Respondents\")\n",
    "plt.show()"
   ]
  },
  {
   "cell_type": "markdown",
   "id": "008fabdd-35ce-483f-920b-07db7fbd4f0e",
   "metadata": {},
   "source": [
    "**The next bar graph is the groups preference during the blind taste test**"
   ]
  },
  {
   "cell_type": "code",
   "execution_count": 17,
   "id": "3b7231f1",
   "metadata": {},
   "outputs": [
    {
     "data": {
      "image/png": "[encoded data removed]",
      "text/plain": [
       "<Figure size 800x500 with 1 Axes>"
      ]
     },
     "metadata": {},
     "output_type": "display_data"
    }
   ],
   "source": [
    "\n",
    "\n",
    "# Count how many people chose each favorite coffee\n",
    "favorite_counts = df[\"Lastly, what was your favorite overall coffee?\"].value_counts(dropna=True)\n",
    "\n",
    "# Plot the bar graph\n",
    "plt.figure(figsize=(8, 5))\n",
    "favorite_counts.plot(kind='bar', color='purple', edgecolor='black')\n",
    "\n",
    "plt.title(\"Group Favorites from Blind Taste Test\")\n",
    "plt.xlabel(\"Coffee Sample\")\n",
    "plt.ylabel(\"Number of Participants\")\n",
    "plt.xticks(rotation=0)\n",
    "plt.grid(axis='y', linestyle='--', alpha=0.7)\n",
    "plt.tight_layout()\n",
    "plt.show()\n"
   ]
  },
  {
   "cell_type": "markdown",
   "id": "2be81cb8",
   "metadata": {},
   "source": [
    "### Roast Preference Findings & Interpretation\n",
    "\n",
    "The blind taste test revealed that **Coffee D** was the most favored overall.  \n",
    "Descriptive data showed Coffee D to be **fruity**, **bright**, and **moderately acidic**, with relatively low bitterness.  \n",
    "This flavor profile closely resembles the sensory characteristics of a **light roast**.\n",
    "\n",
    "The most commonly stated roast preference among participants was also **Light roast**, followed by Medium and Dark.  \n",
    "This alignment suggests that participants’ **self-reported roast preferences were largely consistent** with their **actual sensory choices**.  \n",
    "In other words, people who claimed to enjoy lighter roasts tended to choose coffees that were, in fact, brighter and more fruit-forward when tasting blindly.\n",
    "\n",
    "However, while the trend supports this consistency, individual variation likely exists which indicates that personal perception, brewing habits, and context may still shape how “light” or “dark” a roast is experienced.  \n",
    "Future analyses could examine whether this alignment holds across demographic groups or specific brewing methods.\n"
   ]
  },
  {
   "cell_type": "markdown",
   "id": "b2ea9101",
   "metadata": {},
   "source": [
    "# Environment and Additive Behavior Analysis\n",
    "\n",
    "Coffee consumption habits are not shaped by flavor alone, **environment** plays a significant role in how people prepare and personalize their drinks.  \n",
    "For example, someone enjoying coffee at home may have different rituals and ingredient access compared to someone grabbing a cup at a café.\n",
    "\n",
    "This section explores the connection between **where people typically drink coffee** and **how they modify their beverages**.\n"
   ]
  },
  {
   "cell_type": "markdown",
   "id": "4128ebe6-344a-4cd5-bf1e-056332e996fb",
   "metadata": {},
   "source": [
    "### Environment Results Overview\n",
    "\n",
    "To isolate environment-specific behaviors, we focus on two dominant categories:\n",
    "- **At Home drinkers**  \n",
    "- **At Café drinkers**\n",
    "\n",
    "For each group, we calculate how often participants drink coffee **black**, with **sweetener**, or with **flavor syrup**.  \n",
    "These behaviors are then compared using proportions, correlations, and statistical tests to determine whether environment influences additive choices.\n"
   ]
  },
  {
   "cell_type": "code",
   "execution_count": 35,
   "id": "e2f7ecc9",
   "metadata": {},
   "outputs": [
    {
     "name": "stdout",
     "output_type": "stream",
     "text": [
      "=== Count Table ===\n"
     ]
    },
    {
     "data": {
      "text/html": [
       "<div>\n",
       "<style scoped>\n",
       "    .dataframe tbody tr th:only-of-type {\n",
       "        vertical-align: middle;\n",
       "    }\n",
       "\n",
       "    .dataframe tbody tr th {\n",
       "        vertical-align: top;\n",
       "    }\n",
       "\n",
       "    .dataframe thead th {\n",
       "        text-align: right;\n",
       "    }\n",
       "</style>\n",
       "<table border=\"1\" class=\"dataframe\">\n",
       "  <thead>\n",
       "    <tr style=\"text-align: right;\">\n",
       "      <th></th>\n",
       "      <th>Black Coffee</th>\n",
       "      <th>Sweetener</th>\n",
       "      <th>Flavor Syrup</th>\n",
       "    </tr>\n",
       "  </thead>\n",
       "  <tbody>\n",
       "    <tr>\n",
       "      <th>At Home</th>\n",
       "      <td>2444</td>\n",
       "      <td>438</td>\n",
       "      <td>184</td>\n",
       "    </tr>\n",
       "    <tr>\n",
       "      <th>At a Café</th>\n",
       "      <td>801</td>\n",
       "      <td>147</td>\n",
       "      <td>109</td>\n",
       "    </tr>\n",
       "  </tbody>\n",
       "</table>\n",
       "</div>"
      ],
      "text/plain": [
       "           Black Coffee  Sweetener  Flavor Syrup\n",
       "At Home            2444        438           184\n",
       "At a Café           801        147           109"
      ]
     },
     "metadata": {},
     "output_type": "display_data"
    },
    {
     "name": "stdout",
     "output_type": "stream",
     "text": [
      "\n",
      "=== Percent Table (%) ===\n"
     ]
    },
    {
     "data": {
      "text/html": [
       "<div>\n",
       "<style scoped>\n",
       "    .dataframe tbody tr th:only-of-type {\n",
       "        vertical-align: middle;\n",
       "    }\n",
       "\n",
       "    .dataframe tbody tr th {\n",
       "        vertical-align: top;\n",
       "    }\n",
       "\n",
       "    .dataframe thead th {\n",
       "        text-align: right;\n",
       "    }\n",
       "</style>\n",
       "<table border=\"1\" class=\"dataframe\">\n",
       "  <thead>\n",
       "    <tr style=\"text-align: right;\">\n",
       "      <th></th>\n",
       "      <th>Black Coffee</th>\n",
       "      <th>Sweetener</th>\n",
       "      <th>Flavor Syrup</th>\n",
       "    </tr>\n",
       "  </thead>\n",
       "  <tbody>\n",
       "    <tr>\n",
       "      <th>At Home</th>\n",
       "      <td>67.1</td>\n",
       "      <td>12.0</td>\n",
       "      <td>5.0</td>\n",
       "    </tr>\n",
       "    <tr>\n",
       "      <th>At a Café</th>\n",
       "      <td>68.5</td>\n",
       "      <td>12.6</td>\n",
       "      <td>9.3</td>\n",
       "    </tr>\n",
       "  </tbody>\n",
       "</table>\n",
       "</div>"
      ],
      "text/plain": [
       "           Black Coffee  Sweetener  Flavor Syrup\n",
       "At Home            67.1       12.0           5.0\n",
       "At a Café          68.5       12.6           9.3"
      ]
     },
     "metadata": {},
     "output_type": "display_data"
    }
   ],
   "source": [
    "# --- Environment vs Coffee Additives (Count + Percent Table) ---\n",
    "\n",
    "# Define columns\n",
    "env_home = \"Where do you typically drink coffee? (At home)\"\n",
    "env_cafe = \"Where do you typically drink coffee? (At a cafe)\"\n",
    "\n",
    "add_black = \"Do you usually add anything to your coffee? (No - just black)\"\n",
    "add_sweet = \"Do you usually add anything to your coffee? (Sugar or sweetener)\"\n",
    "add_flavor = \"Do you usually add anything to your coffee? (Flavor syrup)\"\n",
    "\n",
    "# Filter groups\n",
    "home = df[df[env_home] == True]\n",
    "cafe = df[df[env_cafe] == True]\n",
    "\n",
    "# Function to compute counts and percentages\n",
    "def additive_stats(group):\n",
    "    total = len(group)\n",
    "    return {\n",
    "        \"Black Coffee\": group[add_black].sum() / total * 100 if total > 0 else 0,\n",
    "        \"Sweetener\": group[add_sweet].sum() / total * 100 if total > 0 else 0,\n",
    "        \"Flavor Syrup\": group[add_flavor].sum() / total * 100 if total > 0 else 0\n",
    "    }\n",
    "\n",
    "# Compute percentages\n",
    "home_percent = additive_stats(home)\n",
    "cafe_percent = additive_stats(cafe)\n",
    "\n",
    "# Combine counts and percentages into DataFrames\n",
    "summary_counts = pd.DataFrame([\n",
    "    {\n",
    "        \"Black Coffee\": home[add_black].sum(),\n",
    "        \"Sweetener\": home[add_sweet].sum(),\n",
    "        \"Flavor Syrup\": home[add_flavor].sum()\n",
    "    },\n",
    "    {\n",
    "        \"Black Coffee\": cafe[add_black].sum(),\n",
    "        \"Sweetener\": cafe[add_sweet].sum(),\n",
    "        \"Flavor Syrup\": cafe[add_flavor].sum()\n",
    "    }\n",
    "], index=[\"At Home\", \"At a Café\"])\n",
    "\n",
    "summary_percent = pd.DataFrame([home_percent, cafe_percent], index=[\"At Home\", \"At a Café\"])\n",
    "\n",
    "# Display results\n",
    "print(\"=== Count Table ===\")\n",
    "display(summary_counts)\n",
    "\n",
    "print(\"\\n=== Percent Table (%) ===\")\n",
    "display(summary_percent.round(1))\n"
   ]
  },
  {
   "cell_type": "code",
   "execution_count": 23,
   "id": "b59b0c32",
   "metadata": {},
   "outputs": [
    {
     "data": {
      "text/markdown": [
       "## ☕ Environment vs Additive Correlation"
      ],
      "text/plain": [
       "<IPython.core.display.Markdown object>"
      ]
     },
     "metadata": {},
     "output_type": "display_data"
    },
    {
     "data": {
      "text/markdown": [
       "### Mathematical Definition"
      ],
      "text/plain": [
       "<IPython.core.display.Markdown object>"
      ]
     },
     "metadata": {},
     "output_type": "display_data"
    },
    {
     "data": {
      "text/markdown": [
       "$$r_{E,A_i} = \\frac{\\mathrm{cov}(E, A_i)}{\\sigma_E\\sigma_{A_i}}$$"
      ],
      "text/plain": [
       "<IPython.core.display.Markdown object>"
      ]
     },
     "metadata": {},
     "output_type": "display_data"
    },
    {
     "data": {
      "text/markdown": [
       "### Results Table"
      ],
      "text/plain": [
       "<IPython.core.display.Markdown object>"
      ]
     },
     "metadata": {},
     "output_type": "display_data"
    },
    {
     "data": {
      "text/html": [
       "<div>\n",
       "<style scoped>\n",
       "    .dataframe tbody tr th:only-of-type {\n",
       "        vertical-align: middle;\n",
       "    }\n",
       "\n",
       "    .dataframe tbody tr th {\n",
       "        vertical-align: top;\n",
       "    }\n",
       "\n",
       "    .dataframe thead th {\n",
       "        text-align: right;\n",
       "    }\n",
       "</style>\n",
       "<table border=\"1\" class=\"dataframe\">\n",
       "  <thead>\n",
       "    <tr style=\"text-align: right;\">\n",
       "      <th></th>\n",
       "      <th>r (correlation)</th>\n",
       "      <th>p-value</th>\n",
       "    </tr>\n",
       "    <tr>\n",
       "      <th>Additive</th>\n",
       "      <th></th>\n",
       "      <th></th>\n",
       "    </tr>\n",
       "  </thead>\n",
       "  <tbody>\n",
       "    <tr>\n",
       "      <th>Black Coffee</th>\n",
       "      <td>0.029</td>\n",
       "      <td>0.076</td>\n",
       "    </tr>\n",
       "    <tr>\n",
       "      <th>Sweetener</th>\n",
       "      <td>0.001</td>\n",
       "      <td>0.938</td>\n",
       "    </tr>\n",
       "    <tr>\n",
       "      <th>Flavor Syrup</th>\n",
       "      <td>0.112</td>\n",
       "      <td>0.000</td>\n",
       "    </tr>\n",
       "  </tbody>\n",
       "</table>\n",
       "</div>"
      ],
      "text/plain": [
       "              r (correlation)  p-value\n",
       "Additive                              \n",
       "Black Coffee            0.029    0.076\n",
       "Sweetener               0.001    0.938\n",
       "Flavor Syrup            0.112    0.000"
      ]
     },
     "metadata": {},
     "output_type": "display_data"
    }
   ],
   "source": [
    "# === Coffee Environment vs Additive Correlation Analysis ===\n",
    "# Paste this cell directly into Jupyter Lab\n",
    "\n",
    "import numpy as np\n",
    "import pandas as pd\n",
    "import matplotlib.pyplot as plt\n",
    "import seaborn as sns\n",
    "from scipy.stats import pearsonr\n",
    "from IPython.display import display, Markdown\n",
    "\n",
    "# === 1. Define column names ===\n",
    "env_home = \"Where do you typically drink coffee? (At home)\"\n",
    "env_cafe = \"Where do you typically drink coffee? (At a cafe)\"\n",
    "\n",
    "add_black = \"Do you usually add anything to your coffee? (No - just black)\"\n",
    "add_sweet = \"Do you usually add anything to your coffee? (Sugar or sweetener)\"\n",
    "add_flavor = \"Do you usually add anything to your coffee? (Flavor syrup)\"\n",
    "\n",
    "# === 2. Encode Environment as binary (1 = Café, 0 = Home) ===\n",
    "df_env = df.copy()\n",
    "df_env[\"Environment\"] = np.where(df[env_cafe] == True, 1,\n",
    "                         np.where(df[env_home] == True, 0, np.nan))\n",
    "\n",
    "# Drop rows without environment info\n",
    "df_env = df_env.dropna(subset=[\"Environment\"])\n",
    "\n",
    "# === 3. Calculate Pearson correlations and p-values ===\n",
    "results = []\n",
    "for col, label in zip([add_black, add_sweet, add_flavor],\n",
    "                      [\"Black Coffee\", \"Sweetener\", \"Flavor Syrup\"]):\n",
    "    valid = df_env.dropna(subset=[col])\n",
    "    r, p = pearsonr(valid[\"Environment\"], valid[col])\n",
    "    results.append({\"Additive\": label, \"r (correlation)\": r, \"p-value\": p})\n",
    "\n",
    "corr_df = pd.DataFrame(results).set_index(\"Additive\")\n",
    "\n",
    "# === 4. Display LaTeX formula and results ===\n",
    "display(Markdown(\"## ☕ Environment vs Additive Correlation\"))\n",
    "display(Markdown(\"### Mathematical Definition\"))\n",
    "display(Markdown(r\"$$r_{E,A_i} = \\frac{\\mathrm{cov}(E, A_i)}{\\sigma_E\\sigma_{A_i}}$$\"))\n",
    "display(Markdown(\"### Results Table\"))\n",
    "display(corr_df.round(3))\n",
    "\n"
   ]
  },
  {
   "cell_type": "markdown",
   "id": "6db1f88b-d629-44d5-ad38-e204d3d50c1a",
   "metadata": {},
   "source": [
    "## Interpretation: Environment vs Additives\n",
    "\n",
    "**What we tested.** We compared two environments — **At Home (0)** vs **At a Café (1)** — against three additive choices: **Black**, **Sweetener**, and **Flavor syrup**.\n",
    "\n",
    "**Key results.**\n",
    "- **Black:** _[Summarize %s and whether café/home was higher]_  \n",
    "- **Sweetener:** _[Summarize]_  \n",
    "- **Flavor syrup:** _[Summarize]_  \n",
    "\n",
    "**Statistics.** Chi-square tests showed _[significant / not significant]_ associations:\n",
    "- Black: \\( \\chi^2 = \\_, p = \\_ \\), \\( \\phi = \\_ \\), OR \\(=\\_ \\).\n",
    "- Sweetener: \\( \\chi^2 = \\_, p = \\_ \\), \\( \\phi = \\_ \\), OR \\(=\\_ \\).\n",
    "- Flavor syrup: \\( \\chi^2 = \\_, p = \\_ \\), \\( \\phi = \\_ \\), OR \\(=\\_ \\).\n",
    "\n",
    "**Interpretation.**  \n",
    "- If **OR > 1**, café-goers are more likely to choose that additive. If **OR < 1**, home drinkers are more likely.  \n",
    "- Effect sizes (\\( \\phi \\)) of ~0.1 are small, ~0.3 medium, ≥0.5 large.\n",
    "\n",
    "**Limitations.**  \n",
    "- Only two environments considered; other contexts (office, on-the-go) excluded here.  \n",
    "- Self-reported checkboxes; may include overlap/selection bias.\n",
    "\n",
    "**Next steps.**  \n",
    "- Add more environments and run a multi-level model.  \n",
    "- Adjust for demographics (age, roast preference) in a multiple logistic regression.\n"
   ]
  },
  {
   "cell_type": "markdown",
   "id": "d9bfca90-04ba-489f-9a3b-62b10a7986d5",
   "metadata": {},
   "source": [
    "# Summary & Discussion\n",
    "\n",
    "**Summary of findings.**  \n",
    "- Coffee **D** was the blind-test favorite.  \n",
    "- The most common stated roast preference was **Light**, which aligns with Coffee D’s bright/“fruity” profile.  \n",
    "- Environment (home vs café) shows _[weak/moderate/strong]_ associations with additive choices: _[briefly list]_.\n",
    "\n",
    "**Practical implications.**  \n",
    "- Product/placement strategies by environment: _[e.g., cafés stock more flavored syrups if that’s true]_.\n",
    "\n",
    "**Caveats.**  \n",
    "- Survey structure and True/False fields may under/overcount overlap.  \n",
    "- Not all environments captured; not all demographics adjusted.\n",
    "\n",
    "**Future work.**  \n",
    "- Include office/on-the-go environments; model interactions (environment × roast preference).  \n",
    "- Robustness checks with cross-validation; bootstrap CIs for percentages.\n"
   ]
  },
  {
   "cell_type": "code",
   "execution_count": null,
   "id": "b54ce866-c281-404f-b3e8-0e45fe9f1c36",
   "metadata": {},
   "outputs": [],
   "source": []
  }
 ],
 "metadata": {
  "kernelspec": {
   "display_name": "Python 3 (ipykernel)",
   "language": "python",
   "name": "python3"
  },
  "language_info": {
   "codemirror_mode": {
    "name": "ipython",
    "version": 3
   },
   "file_extension": ".py",
   "mimetype": "text/x-python",
   "name": "python",
   "nbconvert_exporter": "python",
   "pygments_lexer": "ipython3",
   "version": "3.12.4"
  }
 },
 "nbformat": 4,
 "nbformat_minor": 5
}

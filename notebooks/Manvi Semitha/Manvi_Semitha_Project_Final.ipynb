{
 "cells": [
  {
   "cell_type": "raw",
   "id": "d3a6214c-266b-407f-8012-0cf351392f75",
   "metadata": {},
   "source": [
    "---\n",
    "title: \"Passport Index Study\"\n",
    "author: \"Manvi Semitha\"\n",
    "date: today\n",
    "format:\n",
    "  html:\n",
    "    theme: minty\n",
    "    code-fold: true  \n",
    "    embed-resources: true   \n",
    "execute:\n",
    "  cache: false              \n",
    "  echo: true\n",
    "  warning: false\n",
    "jupyter: python3  \n",
    "---"
   ]
  },
  {
   "cell_type": "markdown",
   "id": "ced64ce2-0a19-4b92-be43-a850ea835c67",
   "metadata": {},
   "source": [
    "# Abstract\n",
    "This project investigates **global mobility inequality by analyzing changes in passport strength over the past decade using data from the Henley Passport Index**, which ranks countries by visa-free access. \n",
    "\n",
    "By identifying which nations have seen the most significant improvements or declines, the study reveals how shifts in global politics directly affect individuals’ freedom to move, study, and work internationally. \n",
    "*The findings aim to illustrate how the “power” of a passport not only reflects a country’s geopolitical standing but also shapes the lived realities of its citizens in an increasingly interconnected world.*"
   ]
  },
  {
   "cell_type": "markdown",
   "id": "f2ef70a5-ec26-44c4-a0de-7277ba80a408",
   "metadata": {},
   "source": [
    "# Introduction\n",
    "As an international student, mobility is never just about vacations or leisure. It shapes opportunities for education, work, and building a life across borders. The ability to move freely without bureaucratic hurdles often determines how easily students, professionals, and families can connect globally. \n",
    "\n",
    "With this project I intend to explore: \n",
    "**which countries have made the most dramatic improvements in passport power over the past 10 years?** \n",
    "\n",
    "The question matters because it highlights how quickly international opportunities can expand or contract depending on a passport’s strength.\n",
    "\n",
    "To answer them, I will analyze data from the global mobility ranking the **Henley Passport Index** which ranks the world’s passports based on how many destinations their holders can access without a prior visa. It uses exclusive data from the International Air Transport Association (IATA) to measure global travel freedom and mobility. \n",
    "\n",
    "The data is from this **GitHub Repository**: [THE HENLEY PASSPORT INDEX](https://github.com/rfordatascience/tidytuesday/blob/main/data/2025/2025-09-09/readme.md)"
   ]
  },
  {
   "cell_type": "markdown",
   "id": "3382d514-1176-4f77-af5e-482b56bf434d",
   "metadata": {},
   "source": [
    "## Data Visualisation"
   ]
  },
  {
   "cell_type": "markdown",
   "id": "d403dae2-799e-47ad-9cfa-966793e5e4a9",
   "metadata": {},
   "source": [
    "### PASSPORT POWER IMPROVEMENT  \n",
    "\n",
    "Passport power change is defined as:  \n",
    "\n",
    "$$\n",
    "\\Delta P = (C, \\Delta V)\n",
    "$$  \n",
    "\n",
    "where:  \n",
    "- $C$ is a country  \n",
    "- $V$ is the number of visa-free destinations for $C$ in a given year  \n",
    "- $\\Delta V = V_{t_2} - V_{t_1}$ is the change in visa-free destinations between two years $t_1$ and $t_2$  \n",
    "\n",
    "In our setting:  \n",
    "- A **country** is the unit of observation  \n",
    "- The **passport power** of a country in a given year is measured by its visa free count  \n",
    "- The **improvement** $\\Delta V$ captures how much mobility a passport has gained or lost over the period studied (2016–2025)  \n",
    "\n",
    "**Example:**  \n",
    "If Country A had **50 visa-free destinations in 2016** and **120 in 2025**, then:  \n",
    "\n",
    "$$\n",
    "\\Delta V = 120 - 50 = +70\n",
    "$$  \n",
    "\n",
    "This means Country A improved by **70 visa-free destinations**, marking a dramatic expansion in passport power.  \n"
   ]
  },
  {
   "cell_type": "markdown",
   "id": "140f2404-ea53-498e-a19c-a8461679339e",
   "metadata": {},
   "source": [
    "# Visualisation of $\\Delta P$ for each country"
   ]
  },
  {
   "cell_type": "code",
   "execution_count": 1,
   "id": "3d10b1c6-c877-4131-8b73-f96a5b5bc9eb",
   "metadata": {},
   "outputs": [
    {
     "data": {
      "text/html": [
       "        <script type=\"text/javascript\">\n",
       "        window.PlotlyConfig = {MathJaxConfig: 'local'};\n",
       "        if (window.MathJax && window.MathJax.Hub && window.MathJax.Hub.Config) {window.MathJax.Hub.Config({SVG: {font: \"STIX-Web\"}});}\n",
       "        if (typeof require !== 'undefined') {\n",
       "        require.undef(\"plotly\");\n",
       "        requirejs.config({\n",
       "            paths: {\n",
       "                'plotly': ['https://cdn.plot.ly/plotly-2.32.0.min']\n",
       "            }\n",
       "        });\n",
       "        require(['plotly'], function(Plotly) {\n",
       "            window._Plotly = Plotly;\n",
       "        });\n",
       "        }\n",
       "        </script>\n",
       "        "
      ]
     },
     "metadata": {},
     "output_type": "display_data"
    },
    {
     "data": {
      "text/html": [
       "<div>                            <div id=\"adec5003-6e0a-4ac4-8a86-c81bd99df396\" class=\"plotly-graph-div\" style=\"height:700px; width:1050px;\"></div>            <script type=\"text/javascript\">                require([\"plotly\"], function(Plotly) {                    window.PLOTLYENV=window.PLOTLYENV || {};                                    if (document.getElementById(\"adec5003-6e0a-4ac4-8a86-c81bd99df396\")) {                    Plotly.newPlot(                        \"adec5003-6e0a-4ac4-8a86-c81bd99df396\",                        [{\"coloraxis\":\"coloraxis\",\"customdata\":[[25,25,0,\"Afghanistan\"],[98,123,25,\"Albania\"],[48,55,7,\"Algeria\"],[45,48,3,\"Angola\"],[134,152,18,\"Antigua and Barbuda\"],[152,170,18,\"Argentina\"],[57,67,10,\"Armenia\"],[169,185,16,\"Australia\"],[173,188,15,\"Austria\"],[62,71,9,\"Azerbaijan\"],[140,159,19,\"Bahamas\"],[73,90,17,\"Bahrain\"],[39,39,0,\"Bangladesh\"],[141,163,22,\"Barbados\"],[67,81,14,\"Belarus\"],[174,188,14,\"Belgium\"],[94,102,8,\"Belize\"],[59,67,8,\"Benin\"],[51,51,0,\"Bhutan\"],[72,78,6,\"Bolivia\"],[101,123,22,\"Bosnia and Herzegovina\"],[72,85,13,\"Botswana\"],[153,170,17,\"Brazil\"],[151,164,13,\"Brunei\"],[153,177,24,\"Bulgaria\"],[56,59,3,\"Burkina Faso\"],[42,48,6,\"Burundi\"],[50,51,1,\"Cambodia\"],[45,49,4,\"Cameroon\"],[172,184,12,\"Canada\"],[0,67,67,\"Cape Verde Islands\"],[48,51,3,\"Central African Republic\"],[49,52,3,\"Chad\"],[155,176,21,\"Chile\"],[50,83,33,\"China\"],[103,132,29,\"Colombia\"],[0,52,52,\"Comoro Islands\"],[44,48,4,\"Congo (Rep.)\"],[39,43,4,\"Congo (Dem. Rep.)\"],[131,149,18,\"Costa Rica\"],[56,59,3,\"Cote d'Ivoire\"],[149,183,34,\"Croatia\"],[59,60,1,\"Cuba\"],[159,178,19,\"Cyprus\"],[167,185,18,\"Czechia\"],[174,189,15,\"Denmark\"],[44,47,3,\"Djibouti\"],[119,144,25,\"Dominica\"],[54,73,19,\"Dominican Republic\"],[81,94,13,\"Ecuador\"],[49,49,0,\"Egypt\"],[115,135,20,\"El Salvador\"],[45,56,11,\"Equatorial Guinea\"],[37,39,2,\"Eritrea\"],[162,184,22,\"Estonia\"],[37,45,8,\"Ethiopia\"],[81,90,9,\"Fiji\"],[175,189,14,\"Finland\"],[175,189,14,\"France\"],[49,58,9,\"Gabon\"],[67,71,4,\"The Gambia\"],[67,123,56,\"Georgia\"],[177,189,12,\"Germany\"],[64,69,5,\"Ghana\"],[171,187,16,\"Greece\"],[121,147,26,\"Grenada\"],[116,134,18,\"Guatemala\"],[46,57,11,\"Guinea\"],[51,54,3,\"Guinea-Bissau\"],[82,91,9,\"Guyana\"],[48,52,4,\"Haiti\"],[119,131,12,\"Honduras\"],[154,170,16,\"Hong Kong (SAR China)\"],[167,185,18,\"Hungary\"],[167,182,15,\"Iceland\"],[52,58,6,\"India\"],[58,74,16,\"Indonesia\"],[37,42,5,\"Iran\"],[30,30,0,\"Iraq\"],[172,189,17,\"Ireland\"],[147,168,21,\"Israel\"],[175,189,14,\"Italy\"],[78,88,10,\"Jamaica\"],[173,190,17,\"Japan\"],[47,51,4,\"Jordan\"],[67,79,12,\"Kazakhstan\"],[68,71,3,\"Kenya\"],[79,123,44,\"Kiribati\"],[38,82,44,\"Kosovo\"],[82,100,18,\"Kuwait\"],[58,63,5,\"Kyrgyzstan\"],[47,47,0,\"Laos\"],[163,183,20,\"Latvia\"],[39,44,5,\"Lebanon\"],[69,76,7,\"Lesotho\"],[43,51,8,\"Liberia\"],[36,38,2,\"Libya\"],[162,182,20,\"Lithuania\"],[172,188,16,\"Luxembourg\"],[120,144,24,\"Macao (SAR China)\"],[0,129,129,\"North Macedonia\"],[48,58,10,\"Madagascar\"],[67,73,6,\"Malawi\"],[164,181,17,\"Malaysia\"],[80,93,13,\"Maldives\"],[52,55,3,\"Mali\"],[168,185,17,\"Malta\"],[79,128,49,\"Marshall Islands\"],[55,57,2,\"Mauritania\"],[128,149,21,\"Mauritius\"],[139,158,19,\"Mexico\"],[75,123,48,\"Micronesia\"],[101,121,20,\"Moldova\"],[56,65,9,\"Mongolia\"],[107,128,21,\"Montenegro\"],[59,73,14,\"Morocco\"],[51,62,11,\"Mozambique\"],[42,44,2,\"Myanmar\"],[70,78,8,\"Namibia\"],[80,87,7,\"Nauru\"],[37,38,1,\"Nepal\"],[174,188,14,\"Netherlands\"],[171,187,16,\"New Zealand\"],[110,127,17,\"Nicaragua\"],[55,57,2,\"Niger\"],[45,45,0,\"Nigeria\"],[42,40,-2,\"North Korea\"],[172,188,16,\"Norway\"],[71,89,18,\"Oman\"],[29,32,3,\"Pakistan\"],[0,123,123,\"Palau Islands\"],[127,148,21,\"Panama\"],[77,86,9,\"Papua New Guinea\"],[125,146,21,\"Paraguay\"],[86,143,57,\"Peru\"],[61,65,4,\"Philippines\"],[161,185,24,\"Poland\"],[172,188,16,\"Portugal\"],[79,112,33,\"Qatar\"],[153,177,24,\"Romania\"],[105,114,9,\"Russian Federation\"],[48,63,15,\"Rwanda\"],[112,129,17,\"Samoa\"],[54,61,7,\"Sao Tome and Principe\"],[69,91,22,\"Saudi Arabia\"],[55,59,4,\"Senegal\"],[115,138,23,\"Serbia\"],[133,156,23,\"Seychelles\"],[51,65,14,\"Sierra Leone\"],[173,193,20,\"Singapore\"],[165,183,18,\"Slovakia\"],[164,183,19,\"Slovenia\"],[86,134,48,\"Solomon Islands\"],[31,32,1,\"Somalia\"],[97,103,6,\"South Africa\"],[172,190,18,\"South Korea\"],[38,43,5,\"South Sudan\"],[175,189,14,\"Spain\"],[39,42,3,\"Sri Lanka\"],[132,154,22,\"St. Kitts and Nevis\"],[125,146,21,\"St. Lucia\"],[125,156,31,\"St. Vincent and the Grenadines\"],[37,41,4,\"Sudan\"],[74,78,4,\"Suriname\"],[67,74,7,\"eSwatini\"],[176,188,12,\"Sweden\"],[172,187,15,\"Switzerland\"],[32,27,-5,\"Syria\"],[137,138,1,\"Taiwan (Chinese Taipei)\"],[53,56,3,\"Tajikistan\"],[65,70,5,\"Tanzania\"],[71,81,10,\"Thailand\"],[0,95,95,\"Timor-Leste\"],[55,60,5,\"Togo\"],[110,129,19,\"Tonga\"],[130,147,17,\"Trinidad and Tobago\"],[65,67,2,\"Tunisia\"],[102,114,12,\"T\\u00fcrkiye\"],[49,49,0,\"Turkmenistan\"],[82,127,45,\"Tuvalu\"],[60,67,7,\"Uganda\"],[81,147,66,\"Ukraine\"],[122,184,62,\"United Arab Emirates\"],[175,186,11,\"United Kingdom\"],[174,182,8,\"United States\"],[137,157,20,\"Uruguay\"],[52,62,10,\"Uzbekistan\"],[110,90,-20,\"Vanuatu\"],[132,119,-13,\"Venezuela\"],[47,50,3,\"Vietnam\"],[38,32,-6,\"Yemen\"],[63,67,4,\"Zambia\"],[59,63,4,\"Zimbabwe\"],[164,181,17,\"Liechtenstein\"],[160,177,17,\"Monaco\"],[156,170,14,\"San Marino\"],[134,154,20,\"Vatican City\"],[152,171,19,\"Andorra\"],[37,39,2,\"Palestinian Territory\"]],\"geo\":\"geo\",\"hovertemplate\":\"\\u003cb\\u003e%{hovertext}\\u003c\\u002fb\\u003e\\u003cbr\\u003e\\u003cbr\\u003eV_2016=%{customdata[0]}\\u003cbr\\u003eV_2025=%{customdata[1]}\\u003cbr\\u003eChange in Visa-Free Destinations (\\u0394V)=%{z}\\u003cextra\\u003e\\u003c\\u002fextra\\u003e\",\"hovertext\":[\"Afghanistan\",\"Albania\",\"Algeria\",\"Angola\",\"Antigua and Barbuda\",\"Argentina\",\"Armenia\",\"Australia\",\"Austria\",\"Azerbaijan\",\"Bahamas\",\"Bahrain\",\"Bangladesh\",\"Barbados\",\"Belarus\",\"Belgium\",\"Belize\",\"Benin\",\"Bhutan\",\"Bolivia\",\"Bosnia and Herzegovina\",\"Botswana\",\"Brazil\",\"Brunei\",\"Bulgaria\",\"Burkina Faso\",\"Burundi\",\"Cambodia\",\"Cameroon\",\"Canada\",\"Cape Verde Islands\",\"Central African Republic\",\"Chad\",\"Chile\",\"China\",\"Colombia\",\"Comoro Islands\",\"Congo (Rep.)\",\"Congo (Dem. Rep.)\",\"Costa Rica\",\"Cote d'Ivoire\",\"Croatia\",\"Cuba\",\"Cyprus\",\"Czechia\",\"Denmark\",\"Djibouti\",\"Dominica\",\"Dominican Republic\",\"Ecuador\",\"Egypt\",\"El Salvador\",\"Equatorial Guinea\",\"Eritrea\",\"Estonia\",\"Ethiopia\",\"Fiji\",\"Finland\",\"France\",\"Gabon\",\"The Gambia\",\"Georgia\",\"Germany\",\"Ghana\",\"Greece\",\"Grenada\",\"Guatemala\",\"Guinea\",\"Guinea-Bissau\",\"Guyana\",\"Haiti\",\"Honduras\",\"Hong Kong (SAR China)\",\"Hungary\",\"Iceland\",\"India\",\"Indonesia\",\"Iran\",\"Iraq\",\"Ireland\",\"Israel\",\"Italy\",\"Jamaica\",\"Japan\",\"Jordan\",\"Kazakhstan\",\"Kenya\",\"Kiribati\",\"Kosovo\",\"Kuwait\",\"Kyrgyzstan\",\"Laos\",\"Latvia\",\"Lebanon\",\"Lesotho\",\"Liberia\",\"Libya\",\"Lithuania\",\"Luxembourg\",\"Macao (SAR China)\",\"North Macedonia\",\"Madagascar\",\"Malawi\",\"Malaysia\",\"Maldives\",\"Mali\",\"Malta\",\"Marshall Islands\",\"Mauritania\",\"Mauritius\",\"Mexico\",\"Micronesia\",\"Moldova\",\"Mongolia\",\"Montenegro\",\"Morocco\",\"Mozambique\",\"Myanmar\",\"Namibia\",\"Nauru\",\"Nepal\",\"Netherlands\",\"New Zealand\",\"Nicaragua\",\"Niger\",\"Nigeria\",\"North Korea\",\"Norway\",\"Oman\",\"Pakistan\",\"Palau Islands\",\"Panama\",\"Papua New Guinea\",\"Paraguay\",\"Peru\",\"Philippines\",\"Poland\",\"Portugal\",\"Qatar\",\"Romania\",\"Russian Federation\",\"Rwanda\",\"Samoa\",\"Sao Tome and Principe\",\"Saudi Arabia\",\"Senegal\",\"Serbia\",\"Seychelles\",\"Sierra Leone\",\"Singapore\",\"Slovakia\",\"Slovenia\",\"Solomon Islands\",\"Somalia\",\"South Africa\",\"South Korea\",\"South Sudan\",\"Spain\",\"Sri Lanka\",\"St. Kitts and Nevis\",\"St. Lucia\",\"St. Vincent and the Grenadines\",\"Sudan\",\"Suriname\",\"eSwatini\",\"Sweden\",\"Switzerland\",\"Syria\",\"Taiwan (Chinese Taipei)\",\"Tajikistan\",\"Tanzania\",\"Thailand\",\"Timor-Leste\",\"Togo\",\"Tonga\",\"Trinidad and Tobago\",\"Tunisia\",\"T\\u00fcrkiye\",\"Turkmenistan\",\"Tuvalu\",\"Uganda\",\"Ukraine\",\"United Arab Emirates\",\"United Kingdom\",\"United States\",\"Uruguay\",\"Uzbekistan\",\"Vanuatu\",\"Venezuela\",\"Vietnam\",\"Yemen\",\"Zambia\",\"Zimbabwe\",\"Liechtenstein\",\"Monaco\",\"San Marino\",\"Vatican City\",\"Andorra\",\"Palestinian Territory\"],\"locationmode\":\"country names\",\"locations\":[\"Afghanistan\",\"Albania\",\"Algeria\",\"Angola\",\"Antigua and Barbuda\",\"Argentina\",\"Armenia\",\"Australia\",\"Austria\",\"Azerbaijan\",\"Bahamas\",\"Bahrain\",\"Bangladesh\",\"Barbados\",\"Belarus\",\"Belgium\",\"Belize\",\"Benin\",\"Bhutan\",\"Bolivia\",\"Bosnia and Herzegovina\",\"Botswana\",\"Brazil\",\"Brunei\",\"Bulgaria\",\"Burkina Faso\",\"Burundi\",\"Cambodia\",\"Cameroon\",\"Canada\",\"Cape Verde Islands\",\"Central African Republic\",\"Chad\",\"Chile\",\"China\",\"Colombia\",\"Comoro Islands\",\"Congo (Rep.)\",\"Congo (Dem. Rep.)\",\"Costa Rica\",\"Cote d'Ivoire\",\"Croatia\",\"Cuba\",\"Cyprus\",\"Czechia\",\"Denmark\",\"Djibouti\",\"Dominica\",\"Dominican Republic\",\"Ecuador\",\"Egypt\",\"El Salvador\",\"Equatorial Guinea\",\"Eritrea\",\"Estonia\",\"Ethiopia\",\"Fiji\",\"Finland\",\"France\",\"Gabon\",\"The Gambia\",\"Georgia\",\"Germany\",\"Ghana\",\"Greece\",\"Grenada\",\"Guatemala\",\"Guinea\",\"Guinea-Bissau\",\"Guyana\",\"Haiti\",\"Honduras\",\"Hong Kong (SAR China)\",\"Hungary\",\"Iceland\",\"India\",\"Indonesia\",\"Iran\",\"Iraq\",\"Ireland\",\"Israel\",\"Italy\",\"Jamaica\",\"Japan\",\"Jordan\",\"Kazakhstan\",\"Kenya\",\"Kiribati\",\"Kosovo\",\"Kuwait\",\"Kyrgyzstan\",\"Laos\",\"Latvia\",\"Lebanon\",\"Lesotho\",\"Liberia\",\"Libya\",\"Lithuania\",\"Luxembourg\",\"Macao (SAR China)\",\"North Macedonia\",\"Madagascar\",\"Malawi\",\"Malaysia\",\"Maldives\",\"Mali\",\"Malta\",\"Marshall Islands\",\"Mauritania\",\"Mauritius\",\"Mexico\",\"Micronesia\",\"Moldova\",\"Mongolia\",\"Montenegro\",\"Morocco\",\"Mozambique\",\"Myanmar\",\"Namibia\",\"Nauru\",\"Nepal\",\"Netherlands\",\"New Zealand\",\"Nicaragua\",\"Niger\",\"Nigeria\",\"North Korea\",\"Norway\",\"Oman\",\"Pakistan\",\"Palau Islands\",\"Panama\",\"Papua New Guinea\",\"Paraguay\",\"Peru\",\"Philippines\",\"Poland\",\"Portugal\",\"Qatar\",\"Romania\",\"Russian Federation\",\"Rwanda\",\"Samoa\",\"Sao Tome and Principe\",\"Saudi Arabia\",\"Senegal\",\"Serbia\",\"Seychelles\",\"Sierra Leone\",\"Singapore\",\"Slovakia\",\"Slovenia\",\"Solomon Islands\",\"Somalia\",\"South Africa\",\"South Korea\",\"South Sudan\",\"Spain\",\"Sri Lanka\",\"St. Kitts and Nevis\",\"St. Lucia\",\"St. Vincent and the Grenadines\",\"Sudan\",\"Suriname\",\"eSwatini\",\"Sweden\",\"Switzerland\",\"Syria\",\"Taiwan (Chinese Taipei)\",\"Tajikistan\",\"Tanzania\",\"Thailand\",\"Timor-Leste\",\"Togo\",\"Tonga\",\"Trinidad and Tobago\",\"Tunisia\",\"T\\u00fcrkiye\",\"Turkmenistan\",\"Tuvalu\",\"Uganda\",\"Ukraine\",\"United Arab Emirates\",\"United Kingdom\",\"United States\",\"Uruguay\",\"Uzbekistan\",\"Vanuatu\",\"Venezuela\",\"Vietnam\",\"Yemen\",\"Zambia\",\"Zimbabwe\",\"Liechtenstein\",\"Monaco\",\"San Marino\",\"Vatican City\",\"Andorra\",\"Palestinian Territory\"],\"name\":\"\",\"z\":[0,25,7,3,18,18,10,16,15,9,19,17,0,22,14,14,8,8,0,6,22,13,17,13,24,3,6,1,4,12,67,3,3,21,33,29,52,4,4,18,3,34,1,19,18,15,3,25,19,13,0,20,11,2,22,8,9,14,14,9,4,56,12,5,16,26,18,11,3,9,4,12,16,18,15,6,16,5,0,17,21,14,10,17,4,12,3,44,44,18,5,0,20,5,7,8,2,20,16,24,129,10,6,17,13,3,17,49,2,21,19,48,20,9,21,14,11,2,8,7,1,14,16,17,2,0,-2,16,18,3,123,21,9,21,57,4,24,16,33,24,9,15,17,7,22,4,23,23,14,20,18,19,48,1,6,18,5,14,3,22,21,31,4,4,7,12,15,-5,1,3,5,10,95,5,19,17,2,12,0,45,7,66,62,11,8,20,10,-20,-13,3,-6,4,4,17,17,14,20,19,2],\"type\":\"choropleth\"}],                        {\"template\":{\"data\":{\"histogram2dcontour\":[{\"type\":\"histogram2dcontour\",\"colorbar\":{\"outlinewidth\":0,\"ticks\":\"\"},\"colorscale\":[[0.0,\"#0d0887\"],[0.1111111111111111,\"#46039f\"],[0.2222222222222222,\"#7201a8\"],[0.3333333333333333,\"#9c179e\"],[0.4444444444444444,\"#bd3786\"],[0.5555555555555556,\"#d8576b\"],[0.6666666666666666,\"#ed7953\"],[0.7777777777777778,\"#fb9f3a\"],[0.8888888888888888,\"#fdca26\"],[1.0,\"#f0f921\"]]}],\"choropleth\":[{\"type\":\"choropleth\",\"colorbar\":{\"outlinewidth\":0,\"ticks\":\"\"}}],\"histogram2d\":[{\"type\":\"histogram2d\",\"colorbar\":{\"outlinewidth\":0,\"ticks\":\"\"},\"colorscale\":[[0.0,\"#0d0887\"],[0.1111111111111111,\"#46039f\"],[0.2222222222222222,\"#7201a8\"],[0.3333333333333333,\"#9c179e\"],[0.4444444444444444,\"#bd3786\"],[0.5555555555555556,\"#d8576b\"],[0.6666666666666666,\"#ed7953\"],[0.7777777777777778,\"#fb9f3a\"],[0.8888888888888888,\"#fdca26\"],[1.0,\"#f0f921\"]]}],\"heatmap\":[{\"type\":\"heatmap\",\"colorbar\":{\"outlinewidth\":0,\"ticks\":\"\"},\"colorscale\":[[0.0,\"#0d0887\"],[0.1111111111111111,\"#46039f\"],[0.2222222222222222,\"#7201a8\"],[0.3333333333333333,\"#9c179e\"],[0.4444444444444444,\"#bd3786\"],[0.5555555555555556,\"#d8576b\"],[0.6666666666666666,\"#ed7953\"],[0.7777777777777778,\"#fb9f3a\"],[0.8888888888888888,\"#fdca26\"],[1.0,\"#f0f921\"]]}],\"heatmapgl\":[{\"type\":\"heatmapgl\",\"colorbar\":{\"outlinewidth\":0,\"ticks\":\"\"},\"colorscale\":[[0.0,\"#0d0887\"],[0.1111111111111111,\"#46039f\"],[0.2222222222222222,\"#7201a8\"],[0.3333333333333333,\"#9c179e\"],[0.4444444444444444,\"#bd3786\"],[0.5555555555555556,\"#d8576b\"],[0.6666666666666666,\"#ed7953\"],[0.7777777777777778,\"#fb9f3a\"],[0.8888888888888888,\"#fdca26\"],[1.0,\"#f0f921\"]]}],\"contourcarpet\":[{\"type\":\"contourcarpet\",\"colorbar\":{\"outlinewidth\":0,\"ticks\":\"\"}}],\"contour\":[{\"type\":\"contour\",\"colorbar\":{\"outlinewidth\":0,\"ticks\":\"\"},\"colorscale\":[[0.0,\"#0d0887\"],[0.1111111111111111,\"#46039f\"],[0.2222222222222222,\"#7201a8\"],[0.3333333333333333,\"#9c179e\"],[0.4444444444444444,\"#bd3786\"],[0.5555555555555556,\"#d8576b\"],[0.6666666666666666,\"#ed7953\"],[0.7777777777777778,\"#fb9f3a\"],[0.8888888888888888,\"#fdca26\"],[1.0,\"#f0f921\"]]}],\"surface\":[{\"type\":\"surface\",\"colorbar\":{\"outlinewidth\":0,\"ticks\":\"\"},\"colorscale\":[[0.0,\"#0d0887\"],[0.1111111111111111,\"#46039f\"],[0.2222222222222222,\"#7201a8\"],[0.3333333333333333,\"#9c179e\"],[0.4444444444444444,\"#bd3786\"],[0.5555555555555556,\"#d8576b\"],[0.6666666666666666,\"#ed7953\"],[0.7777777777777778,\"#fb9f3a\"],[0.8888888888888888,\"#fdca26\"],[1.0,\"#f0f921\"]]}],\"mesh3d\":[{\"type\":\"mesh3d\",\"colorbar\":{\"outlinewidth\":0,\"ticks\":\"\"}}],\"scatter\":[{\"fillpattern\":{\"fillmode\":\"overlay\",\"size\":10,\"solidity\":0.2},\"type\":\"scatter\"}],\"parcoords\":[{\"type\":\"parcoords\",\"line\":{\"colorbar\":{\"outlinewidth\":0,\"ticks\":\"\"}}}],\"scatterpolargl\":[{\"type\":\"scatterpolargl\",\"marker\":{\"colorbar\":{\"outlinewidth\":0,\"ticks\":\"\"}}}],\"bar\":[{\"error_x\":{\"color\":\"#2a3f5f\"},\"error_y\":{\"color\":\"#2a3f5f\"},\"marker\":{\"line\":{\"color\":\"#E5ECF6\",\"width\":0.5},\"pattern\":{\"fillmode\":\"overlay\",\"size\":10,\"solidity\":0.2}},\"type\":\"bar\"}],\"scattergeo\":[{\"type\":\"scattergeo\",\"marker\":{\"colorbar\":{\"outlinewidth\":0,\"ticks\":\"\"}}}],\"scatterpolar\":[{\"type\":\"scatterpolar\",\"marker\":{\"colorbar\":{\"outlinewidth\":0,\"ticks\":\"\"}}}],\"histogram\":[{\"marker\":{\"pattern\":{\"fillmode\":\"overlay\",\"size\":10,\"solidity\":0.2}},\"type\":\"histogram\"}],\"scattergl\":[{\"type\":\"scattergl\",\"marker\":{\"colorbar\":{\"outlinewidth\":0,\"ticks\":\"\"}}}],\"scatter3d\":[{\"type\":\"scatter3d\",\"line\":{\"colorbar\":{\"outlinewidth\":0,\"ticks\":\"\"}},\"marker\":{\"colorbar\":{\"outlinewidth\":0,\"ticks\":\"\"}}}],\"scattermapbox\":[{\"type\":\"scattermapbox\",\"marker\":{\"colorbar\":{\"outlinewidth\":0,\"ticks\":\"\"}}}],\"scatterternary\":[{\"type\":\"scatterternary\",\"marker\":{\"colorbar\":{\"outlinewidth\":0,\"ticks\":\"\"}}}],\"scattercarpet\":[{\"type\":\"scattercarpet\",\"marker\":{\"colorbar\":{\"outlinewidth\":0,\"ticks\":\"\"}}}],\"carpet\":[{\"aaxis\":{\"endlinecolor\":\"#2a3f5f\",\"gridcolor\":\"white\",\"linecolor\":\"white\",\"minorgridcolor\":\"white\",\"startlinecolor\":\"#2a3f5f\"},\"baxis\":{\"endlinecolor\":\"#2a3f5f\",\"gridcolor\":\"white\",\"linecolor\":\"white\",\"minorgridcolor\":\"white\",\"startlinecolor\":\"#2a3f5f\"},\"type\":\"carpet\"}],\"table\":[{\"cells\":{\"fill\":{\"color\":\"#EBF0F8\"},\"line\":{\"color\":\"white\"}},\"header\":{\"fill\":{\"color\":\"#C8D4E3\"},\"line\":{\"color\":\"white\"}},\"type\":\"table\"}],\"barpolar\":[{\"marker\":{\"line\":{\"color\":\"#E5ECF6\",\"width\":0.5},\"pattern\":{\"fillmode\":\"overlay\",\"size\":10,\"solidity\":0.2}},\"type\":\"barpolar\"}],\"pie\":[{\"automargin\":true,\"type\":\"pie\"}]},\"layout\":{\"autotypenumbers\":\"strict\",\"colorway\":[\"#636efa\",\"#EF553B\",\"#00cc96\",\"#ab63fa\",\"#FFA15A\",\"#19d3f3\",\"#FF6692\",\"#B6E880\",\"#FF97FF\",\"#FECB52\"],\"font\":{\"color\":\"#2a3f5f\"},\"hovermode\":\"closest\",\"hoverlabel\":{\"align\":\"left\"},\"paper_bgcolor\":\"white\",\"plot_bgcolor\":\"#E5ECF6\",\"polar\":{\"bgcolor\":\"#E5ECF6\",\"angularaxis\":{\"gridcolor\":\"white\",\"linecolor\":\"white\",\"ticks\":\"\"},\"radialaxis\":{\"gridcolor\":\"white\",\"linecolor\":\"white\",\"ticks\":\"\"}},\"ternary\":{\"bgcolor\":\"#E5ECF6\",\"aaxis\":{\"gridcolor\":\"white\",\"linecolor\":\"white\",\"ticks\":\"\"},\"baxis\":{\"gridcolor\":\"white\",\"linecolor\":\"white\",\"ticks\":\"\"},\"caxis\":{\"gridcolor\":\"white\",\"linecolor\":\"white\",\"ticks\":\"\"}},\"coloraxis\":{\"colorbar\":{\"outlinewidth\":0,\"ticks\":\"\"}},\"colorscale\":{\"sequential\":[[0.0,\"#0d0887\"],[0.1111111111111111,\"#46039f\"],[0.2222222222222222,\"#7201a8\"],[0.3333333333333333,\"#9c179e\"],[0.4444444444444444,\"#bd3786\"],[0.5555555555555556,\"#d8576b\"],[0.6666666666666666,\"#ed7953\"],[0.7777777777777778,\"#fb9f3a\"],[0.8888888888888888,\"#fdca26\"],[1.0,\"#f0f921\"]],\"sequentialminus\":[[0.0,\"#0d0887\"],[0.1111111111111111,\"#46039f\"],[0.2222222222222222,\"#7201a8\"],[0.3333333333333333,\"#9c179e\"],[0.4444444444444444,\"#bd3786\"],[0.5555555555555556,\"#d8576b\"],[0.6666666666666666,\"#ed7953\"],[0.7777777777777778,\"#fb9f3a\"],[0.8888888888888888,\"#fdca26\"],[1.0,\"#f0f921\"]],\"diverging\":[[0,\"#8e0152\"],[0.1,\"#c51b7d\"],[0.2,\"#de77ae\"],[0.3,\"#f1b6da\"],[0.4,\"#fde0ef\"],[0.5,\"#f7f7f7\"],[0.6,\"#e6f5d0\"],[0.7,\"#b8e186\"],[0.8,\"#7fbc41\"],[0.9,\"#4d9221\"],[1,\"#276419\"]]},\"xaxis\":{\"gridcolor\":\"white\",\"linecolor\":\"white\",\"ticks\":\"\",\"title\":{\"standoff\":15},\"zerolinecolor\":\"white\",\"automargin\":true,\"zerolinewidth\":2},\"yaxis\":{\"gridcolor\":\"white\",\"linecolor\":\"white\",\"ticks\":\"\",\"title\":{\"standoff\":15},\"zerolinecolor\":\"white\",\"automargin\":true,\"zerolinewidth\":2},\"scene\":{\"xaxis\":{\"backgroundcolor\":\"#E5ECF6\",\"gridcolor\":\"white\",\"linecolor\":\"white\",\"showbackground\":true,\"ticks\":\"\",\"zerolinecolor\":\"white\",\"gridwidth\":2},\"yaxis\":{\"backgroundcolor\":\"#E5ECF6\",\"gridcolor\":\"white\",\"linecolor\":\"white\",\"showbackground\":true,\"ticks\":\"\",\"zerolinecolor\":\"white\",\"gridwidth\":2},\"zaxis\":{\"backgroundcolor\":\"#E5ECF6\",\"gridcolor\":\"white\",\"linecolor\":\"white\",\"showbackground\":true,\"ticks\":\"\",\"zerolinecolor\":\"white\",\"gridwidth\":2}},\"shapedefaults\":{\"line\":{\"color\":\"#2a3f5f\"}},\"annotationdefaults\":{\"arrowcolor\":\"#2a3f5f\",\"arrowhead\":0,\"arrowwidth\":1},\"geo\":{\"bgcolor\":\"white\",\"landcolor\":\"#E5ECF6\",\"subunitcolor\":\"white\",\"showland\":true,\"showlakes\":true,\"lakecolor\":\"white\"},\"title\":{\"x\":0.05},\"mapbox\":{\"style\":\"light\"},\"margin\":{\"b\":0,\"l\":0,\"r\":0,\"t\":30}}},\"geo\":{\"domain\":{\"x\":[0.0,1.0],\"y\":[0.0,1.0]},\"center\":{},\"showframe\":false,\"showcoastlines\":false},\"coloraxis\":{\"colorbar\":{\"title\":{\"text\":\"Change in Visa-Free Destinations (\\u0394V)\"}},\"colorscale\":[[0.0,\"rgb(20, 29, 67)\"],[0.09090909090909091,\"rgb(28, 72, 93)\"],[0.18181818181818182,\"rgb(18, 115, 117)\"],[0.2727272727272727,\"rgb(63, 156, 129)\"],[0.36363636363636365,\"rgb(153, 189, 156)\"],[0.45454545454545453,\"rgb(223, 225, 211)\"],[0.5454545454545454,\"rgb(241, 218, 206)\"],[0.6363636363636364,\"rgb(224, 160, 137)\"],[0.7272727272727273,\"rgb(203, 101, 99)\"],[0.8181818181818182,\"rgb(164, 54, 96)\"],[0.9090909090909091,\"rgb(111, 23, 91)\"],[1.0,\"rgb(51, 13, 53)\"]]},\"legend\":{\"tracegroupgap\":0},\"title\":{\"text\":\"Global Passport Power Changes (2016\\u20132025)\"},\"height\":700,\"width\":1050},                        {\"responsive\": true}                    ).then(function(){\n",
       "                            \n",
       "var gd = document.getElementById('adec5003-6e0a-4ac4-8a86-c81bd99df396');\n",
       "var x = new MutationObserver(function (mutations, observer) {{\n",
       "        var display = window.getComputedStyle(gd).display;\n",
       "        if (!display || display === 'none') {{\n",
       "            console.log([gd, 'removed!']);\n",
       "            Plotly.purge(gd);\n",
       "            observer.disconnect();\n",
       "        }}\n",
       "}});\n",
       "\n",
       "// Listen for the removal of the full notebook cells\n",
       "var notebookContainer = gd.closest('#notebook-container');\n",
       "if (notebookContainer) {{\n",
       "    x.observe(notebookContainer, {childList: true});\n",
       "}}\n",
       "\n",
       "// Listen for the clearing of the current output cell\n",
       "var outputEl = gd.closest('.output');\n",
       "if (outputEl) {{\n",
       "    x.observe(outputEl, {childList: true});\n",
       "}}\n",
       "\n",
       "                        })                };                });            </script>        </div>"
      ]
     },
     "metadata": {},
     "output_type": "display_data"
    }
   ],
   "source": [
    "# | label: fig-passport-map\n",
    "# | fig-cap: \"Change in global passport power between 2016 and 2025.\"\n",
    "\n",
    "import pandas as pd\n",
    "import numpy as np\n",
    "import matplotlib.pyplot as plt\n",
    "import seaborn as sns\n",
    "import plotly.express as px\n",
    "df2= pd.read_csv('https://raw.githubusercontent.com/rfordatascience/tidytuesday/main/data/2025/2025-09-09/rank_by_year.csv')\n",
    "\n",
    "# Compute Delta_V per country between 2016 and 2025\n",
    "base = df2[df2[\"year\"] == 2016][[\"country\", \"visa_free_count\"]].rename(columns={\"visa_free_count\":\"V_2016\"})\n",
    "comp = df2[df2[\"year\"] == 2025][[\"country\", \"visa_free_count\"]].rename(columns={\"visa_free_count\":\"V_2025\"})\n",
    "delta = base.merge(comp, on=\"country\", how=\"inner\")\n",
    "delta[\"Delta_V\"] = delta[\"V_2025\"] - delta[\"V_2016\"]\n",
    "\n",
    "# Map visualisation\n",
    "fig = px.choropleth(\n",
    "    delta,\n",
    "    locations=\"country\",\n",
    "    locationmode=\"country names\",\n",
    "    color=\"Delta_V\",\n",
    "    color_continuous_scale=\"curl\",\n",
    "    title=\"Global Passport Power Changes (2016–2025)\",\n",
    "    labels={\"Delta_V\": \"Change in Visa-Free Destinations (ΔV)\"},\n",
    "    hover_name=\"country\",\n",
    "    hover_data={\"V_2016\": True, \"V_2025\": True, \"Delta_V\": True, \"country\": False},\n",
    "    width=1050,\n",
    "    height=700\n",
    ")\n",
    "fig.update_layout(geo=dict(showframe=False, showcoastlines=False))\n",
    "fig.show()\n"
   ]
  },
  {
   "cell_type": "code",
   "execution_count": 2,
   "id": "72ce48e1-a332-4df0-8195-0e116e492baa",
   "metadata": {},
   "outputs": [
    {
     "data": {
      "text/html": [
       "<div>                            <div id=\"6e870614-5a34-42c1-96a9-9155713f2873\" class=\"plotly-graph-div\" style=\"height:800px; width:1000px;\"></div>            <script type=\"text/javascript\">                require([\"plotly\"], function(Plotly) {                    window.PLOTLYENV=window.PLOTLYENV || {};                                    if (document.getElementById(\"6e870614-5a34-42c1-96a9-9155713f2873\")) {                    Plotly.newPlot(                        \"6e870614-5a34-42c1-96a9-9155713f2873\",                        [{\"alignmentgroup\":\"True\",\"hovertemplate\":\"Change in Visa-Free Destinations (\\u0394V)=%{marker.color}\\u003cbr\\u003eCountry=%{y}\\u003cextra\\u003e\\u003c\\u002fextra\\u003e\",\"legendgroup\":\"\",\"marker\":{\"color\":[-20,-13,-6,-5,-2,0,0,0,0,0,0,0,0,1,1,1,1,1,2,2,2,2,2,2,2,3,3,3,3,3,3,3,3,3,3,3,3,3,4,4,4,4,4,4,4,4,4,4,4,4,5,5,5,5,5,5,5,6,6,6,6,6,7,7,7,7,7,7,8,8,8,8,8,8,9,9,9,9,9,9,9,10,10,10,10,10,11,11,11,11,12,12,12,12,12,12,13,13,13,13,14,14,14,14,14,14,14,14,14,14,15,15,15,15,15,16,16,16,16,16,16,16,16,17,17,17,17,17,17,17,17,17,17,17,18,18,18,18,18,18,18,18,18,18,19,19,19,19,19,19,19,20,20,20,20,20,20,20,21,21,21,21,21,21,21,22,22,22,22,22,23,23,24,24,24,24,25,25,26,29,31,33,33,34,44,44,45,48,48,49,52,56,57,62,66,67,95,123,129],\"coloraxis\":\"coloraxis\",\"pattern\":{\"shape\":\"\"}},\"name\":\"\",\"offsetgroup\":\"\",\"orientation\":\"h\",\"showlegend\":false,\"textposition\":\"auto\",\"x\":[-20,-13,-6,-5,-2,0,0,0,0,0,0,0,0,1,1,1,1,1,2,2,2,2,2,2,2,3,3,3,3,3,3,3,3,3,3,3,3,3,4,4,4,4,4,4,4,4,4,4,4,4,5,5,5,5,5,5,5,6,6,6,6,6,7,7,7,7,7,7,8,8,8,8,8,8,9,9,9,9,9,9,9,10,10,10,10,10,11,11,11,11,12,12,12,12,12,12,13,13,13,13,14,14,14,14,14,14,14,14,14,14,15,15,15,15,15,16,16,16,16,16,16,16,16,17,17,17,17,17,17,17,17,17,17,17,18,18,18,18,18,18,18,18,18,18,19,19,19,19,19,19,19,20,20,20,20,20,20,20,21,21,21,21,21,21,21,22,22,22,22,22,23,23,24,24,24,24,25,25,26,29,31,33,33,34,44,44,45,48,48,49,52,56,57,62,66,67,95,123,129],\"xaxis\":\"x\",\"y\":[\"Vanuatu\",\"Venezuela\",\"Yemen\",\"Syria\",\"North Korea\",\"Afghanistan\",\"Turkmenistan\",\"Egypt\",\"Iraq\",\"Bhutan\",\"Nigeria\",\"Laos\",\"Bangladesh\",\"Cambodia\",\"Cuba\",\"Somalia\",\"Taiwan (Chinese Taipei)\",\"Nepal\",\"Myanmar\",\"Mauritania\",\"Libya\",\"Eritrea\",\"Tunisia\",\"Niger\",\"Palestinian Territory\",\"Burkina Faso\",\"Cote d'Ivoire\",\"Pakistan\",\"Sri Lanka\",\"Kenya\",\"Djibouti\",\"Chad\",\"Vietnam\",\"Mali\",\"Guinea-Bissau\",\"Tajikistan\",\"Angola\",\"Central African Republic\",\"The Gambia\",\"Haiti\",\"Philippines\",\"Zambia\",\"Senegal\",\"Jordan\",\"Suriname\",\"Zimbabwe\",\"Congo (Dem. Rep.)\",\"Sudan\",\"Congo (Rep.)\",\"Cameroon\",\"Ghana\",\"South Sudan\",\"Kyrgyzstan\",\"Iran\",\"Tanzania\",\"Togo\",\"Lebanon\",\"India\",\"Malawi\",\"Bolivia\",\"Burundi\",\"South Africa\",\"Algeria\",\"Lesotho\",\"Sao Tome and Principe\",\"Uganda\",\"Nauru\",\"eSwatini\",\"Ethiopia\",\"Benin\",\"Liberia\",\"Namibia\",\"United States\",\"Belize\",\"Mongolia\",\"Fiji\",\"Guyana\",\"Azerbaijan\",\"Papua New Guinea\",\"Russian Federation\",\"Gabon\",\"Armenia\",\"Madagascar\",\"Uzbekistan\",\"Thailand\",\"Jamaica\",\"United Kingdom\",\"Mozambique\",\"Guinea\",\"Equatorial Guinea\",\"Germany\",\"Honduras\",\"Kazakhstan\",\"Canada\",\"Sweden\",\"T\\u00fcrkiye\",\"Maldives\",\"Botswana\",\"Ecuador\",\"Brunei\",\"Finland\",\"Morocco\",\"Belgium\",\"France\",\"Netherlands\",\"Belarus\",\"Sierra Leone\",\"Spain\",\"San Marino\",\"Italy\",\"Rwanda\",\"Austria\",\"Iceland\",\"Switzerland\",\"Denmark\",\"Norway\",\"New Zealand\",\"Australia\",\"Portugal\",\"Luxembourg\",\"Greece\",\"Hong Kong (SAR China)\",\"Indonesia\",\"Brazil\",\"Trinidad and Tobago\",\"Malta\",\"Liechtenstein\",\"Malaysia\",\"Japan\",\"Samoa\",\"Bahrain\",\"Nicaragua\",\"Ireland\",\"Monaco\",\"Guatemala\",\"Argentina\",\"Czechia\",\"Oman\",\"South Korea\",\"Slovakia\",\"Costa Rica\",\"Hungary\",\"Kuwait\",\"Antigua and Barbuda\",\"Tonga\",\"Slovenia\",\"Andorra\",\"Cyprus\",\"Bahamas\",\"Dominican Republic\",\"Mexico\",\"Singapore\",\"Vatican City\",\"Uruguay\",\"Lithuania\",\"Moldova\",\"Latvia\",\"El Salvador\",\"Chile\",\"St. Lucia\",\"Mauritius\",\"Panama\",\"Paraguay\",\"Israel\",\"Montenegro\",\"Estonia\",\"St. Kitts and Nevis\",\"Barbados\",\"Saudi Arabia\",\"Bosnia and Herzegovina\",\"Seychelles\",\"Serbia\",\"Macao (SAR China)\",\"Romania\",\"Poland\",\"Bulgaria\",\"Dominica\",\"Albania\",\"Grenada\",\"Colombia\",\"St. Vincent and the Grenadines\",\"China\",\"Qatar\",\"Croatia\",\"Kiribati\",\"Kosovo\",\"Tuvalu\",\"Micronesia\",\"Solomon Islands\",\"Marshall Islands\",\"Comoro Islands\",\"Georgia\",\"Peru\",\"United Arab Emirates\",\"Ukraine\",\"Cape Verde Islands\",\"Timor-Leste\",\"Palau Islands\",\"North Macedonia\"],\"yaxis\":\"y\",\"type\":\"bar\"}],                        {\"template\":{\"data\":{\"histogram2dcontour\":[{\"type\":\"histogram2dcontour\",\"colorbar\":{\"outlinewidth\":0,\"ticks\":\"\"},\"colorscale\":[[0.0,\"#0d0887\"],[0.1111111111111111,\"#46039f\"],[0.2222222222222222,\"#7201a8\"],[0.3333333333333333,\"#9c179e\"],[0.4444444444444444,\"#bd3786\"],[0.5555555555555556,\"#d8576b\"],[0.6666666666666666,\"#ed7953\"],[0.7777777777777778,\"#fb9f3a\"],[0.8888888888888888,\"#fdca26\"],[1.0,\"#f0f921\"]]}],\"choropleth\":[{\"type\":\"choropleth\",\"colorbar\":{\"outlinewidth\":0,\"ticks\":\"\"}}],\"histogram2d\":[{\"type\":\"histogram2d\",\"colorbar\":{\"outlinewidth\":0,\"ticks\":\"\"},\"colorscale\":[[0.0,\"#0d0887\"],[0.1111111111111111,\"#46039f\"],[0.2222222222222222,\"#7201a8\"],[0.3333333333333333,\"#9c179e\"],[0.4444444444444444,\"#bd3786\"],[0.5555555555555556,\"#d8576b\"],[0.6666666666666666,\"#ed7953\"],[0.7777777777777778,\"#fb9f3a\"],[0.8888888888888888,\"#fdca26\"],[1.0,\"#f0f921\"]]}],\"heatmap\":[{\"type\":\"heatmap\",\"colorbar\":{\"outlinewidth\":0,\"ticks\":\"\"},\"colorscale\":[[0.0,\"#0d0887\"],[0.1111111111111111,\"#46039f\"],[0.2222222222222222,\"#7201a8\"],[0.3333333333333333,\"#9c179e\"],[0.4444444444444444,\"#bd3786\"],[0.5555555555555556,\"#d8576b\"],[0.6666666666666666,\"#ed7953\"],[0.7777777777777778,\"#fb9f3a\"],[0.8888888888888888,\"#fdca26\"],[1.0,\"#f0f921\"]]}],\"heatmapgl\":[{\"type\":\"heatmapgl\",\"colorbar\":{\"outlinewidth\":0,\"ticks\":\"\"},\"colorscale\":[[0.0,\"#0d0887\"],[0.1111111111111111,\"#46039f\"],[0.2222222222222222,\"#7201a8\"],[0.3333333333333333,\"#9c179e\"],[0.4444444444444444,\"#bd3786\"],[0.5555555555555556,\"#d8576b\"],[0.6666666666666666,\"#ed7953\"],[0.7777777777777778,\"#fb9f3a\"],[0.8888888888888888,\"#fdca26\"],[1.0,\"#f0f921\"]]}],\"contourcarpet\":[{\"type\":\"contourcarpet\",\"colorbar\":{\"outlinewidth\":0,\"ticks\":\"\"}}],\"contour\":[{\"type\":\"contour\",\"colorbar\":{\"outlinewidth\":0,\"ticks\":\"\"},\"colorscale\":[[0.0,\"#0d0887\"],[0.1111111111111111,\"#46039f\"],[0.2222222222222222,\"#7201a8\"],[0.3333333333333333,\"#9c179e\"],[0.4444444444444444,\"#bd3786\"],[0.5555555555555556,\"#d8576b\"],[0.6666666666666666,\"#ed7953\"],[0.7777777777777778,\"#fb9f3a\"],[0.8888888888888888,\"#fdca26\"],[1.0,\"#f0f921\"]]}],\"surface\":[{\"type\":\"surface\",\"colorbar\":{\"outlinewidth\":0,\"ticks\":\"\"},\"colorscale\":[[0.0,\"#0d0887\"],[0.1111111111111111,\"#46039f\"],[0.2222222222222222,\"#7201a8\"],[0.3333333333333333,\"#9c179e\"],[0.4444444444444444,\"#bd3786\"],[0.5555555555555556,\"#d8576b\"],[0.6666666666666666,\"#ed7953\"],[0.7777777777777778,\"#fb9f3a\"],[0.8888888888888888,\"#fdca26\"],[1.0,\"#f0f921\"]]}],\"mesh3d\":[{\"type\":\"mesh3d\",\"colorbar\":{\"outlinewidth\":0,\"ticks\":\"\"}}],\"scatter\":[{\"fillpattern\":{\"fillmode\":\"overlay\",\"size\":10,\"solidity\":0.2},\"type\":\"scatter\"}],\"parcoords\":[{\"type\":\"parcoords\",\"line\":{\"colorbar\":{\"outlinewidth\":0,\"ticks\":\"\"}}}],\"scatterpolargl\":[{\"type\":\"scatterpolargl\",\"marker\":{\"colorbar\":{\"outlinewidth\":0,\"ticks\":\"\"}}}],\"bar\":[{\"error_x\":{\"color\":\"#2a3f5f\"},\"error_y\":{\"color\":\"#2a3f5f\"},\"marker\":{\"line\":{\"color\":\"#E5ECF6\",\"width\":0.5},\"pattern\":{\"fillmode\":\"overlay\",\"size\":10,\"solidity\":0.2}},\"type\":\"bar\"}],\"scattergeo\":[{\"type\":\"scattergeo\",\"marker\":{\"colorbar\":{\"outlinewidth\":0,\"ticks\":\"\"}}}],\"scatterpolar\":[{\"type\":\"scatterpolar\",\"marker\":{\"colorbar\":{\"outlinewidth\":0,\"ticks\":\"\"}}}],\"histogram\":[{\"marker\":{\"pattern\":{\"fillmode\":\"overlay\",\"size\":10,\"solidity\":0.2}},\"type\":\"histogram\"}],\"scattergl\":[{\"type\":\"scattergl\",\"marker\":{\"colorbar\":{\"outlinewidth\":0,\"ticks\":\"\"}}}],\"scatter3d\":[{\"type\":\"scatter3d\",\"line\":{\"colorbar\":{\"outlinewidth\":0,\"ticks\":\"\"}},\"marker\":{\"colorbar\":{\"outlinewidth\":0,\"ticks\":\"\"}}}],\"scattermapbox\":[{\"type\":\"scattermapbox\",\"marker\":{\"colorbar\":{\"outlinewidth\":0,\"ticks\":\"\"}}}],\"scatterternary\":[{\"type\":\"scatterternary\",\"marker\":{\"colorbar\":{\"outlinewidth\":0,\"ticks\":\"\"}}}],\"scattercarpet\":[{\"type\":\"scattercarpet\",\"marker\":{\"colorbar\":{\"outlinewidth\":0,\"ticks\":\"\"}}}],\"carpet\":[{\"aaxis\":{\"endlinecolor\":\"#2a3f5f\",\"gridcolor\":\"white\",\"linecolor\":\"white\",\"minorgridcolor\":\"white\",\"startlinecolor\":\"#2a3f5f\"},\"baxis\":{\"endlinecolor\":\"#2a3f5f\",\"gridcolor\":\"white\",\"linecolor\":\"white\",\"minorgridcolor\":\"white\",\"startlinecolor\":\"#2a3f5f\"},\"type\":\"carpet\"}],\"table\":[{\"cells\":{\"fill\":{\"color\":\"#EBF0F8\"},\"line\":{\"color\":\"white\"}},\"header\":{\"fill\":{\"color\":\"#C8D4E3\"},\"line\":{\"color\":\"white\"}},\"type\":\"table\"}],\"barpolar\":[{\"marker\":{\"line\":{\"color\":\"#E5ECF6\",\"width\":0.5},\"pattern\":{\"fillmode\":\"overlay\",\"size\":10,\"solidity\":0.2}},\"type\":\"barpolar\"}],\"pie\":[{\"automargin\":true,\"type\":\"pie\"}]},\"layout\":{\"autotypenumbers\":\"strict\",\"colorway\":[\"#636efa\",\"#EF553B\",\"#00cc96\",\"#ab63fa\",\"#FFA15A\",\"#19d3f3\",\"#FF6692\",\"#B6E880\",\"#FF97FF\",\"#FECB52\"],\"font\":{\"color\":\"#2a3f5f\"},\"hovermode\":\"closest\",\"hoverlabel\":{\"align\":\"left\"},\"paper_bgcolor\":\"white\",\"plot_bgcolor\":\"#E5ECF6\",\"polar\":{\"bgcolor\":\"#E5ECF6\",\"angularaxis\":{\"gridcolor\":\"white\",\"linecolor\":\"white\",\"ticks\":\"\"},\"radialaxis\":{\"gridcolor\":\"white\",\"linecolor\":\"white\",\"ticks\":\"\"}},\"ternary\":{\"bgcolor\":\"#E5ECF6\",\"aaxis\":{\"gridcolor\":\"white\",\"linecolor\":\"white\",\"ticks\":\"\"},\"baxis\":{\"gridcolor\":\"white\",\"linecolor\":\"white\",\"ticks\":\"\"},\"caxis\":{\"gridcolor\":\"white\",\"linecolor\":\"white\",\"ticks\":\"\"}},\"coloraxis\":{\"colorbar\":{\"outlinewidth\":0,\"ticks\":\"\"}},\"colorscale\":{\"sequential\":[[0.0,\"#0d0887\"],[0.1111111111111111,\"#46039f\"],[0.2222222222222222,\"#7201a8\"],[0.3333333333333333,\"#9c179e\"],[0.4444444444444444,\"#bd3786\"],[0.5555555555555556,\"#d8576b\"],[0.6666666666666666,\"#ed7953\"],[0.7777777777777778,\"#fb9f3a\"],[0.8888888888888888,\"#fdca26\"],[1.0,\"#f0f921\"]],\"sequentialminus\":[[0.0,\"#0d0887\"],[0.1111111111111111,\"#46039f\"],[0.2222222222222222,\"#7201a8\"],[0.3333333333333333,\"#9c179e\"],[0.4444444444444444,\"#bd3786\"],[0.5555555555555556,\"#d8576b\"],[0.6666666666666666,\"#ed7953\"],[0.7777777777777778,\"#fb9f3a\"],[0.8888888888888888,\"#fdca26\"],[1.0,\"#f0f921\"]],\"diverging\":[[0,\"#8e0152\"],[0.1,\"#c51b7d\"],[0.2,\"#de77ae\"],[0.3,\"#f1b6da\"],[0.4,\"#fde0ef\"],[0.5,\"#f7f7f7\"],[0.6,\"#e6f5d0\"],[0.7,\"#b8e186\"],[0.8,\"#7fbc41\"],[0.9,\"#4d9221\"],[1,\"#276419\"]]},\"xaxis\":{\"gridcolor\":\"white\",\"linecolor\":\"white\",\"ticks\":\"\",\"title\":{\"standoff\":15},\"zerolinecolor\":\"white\",\"automargin\":true,\"zerolinewidth\":2},\"yaxis\":{\"gridcolor\":\"white\",\"linecolor\":\"white\",\"ticks\":\"\",\"title\":{\"standoff\":15},\"zerolinecolor\":\"white\",\"automargin\":true,\"zerolinewidth\":2},\"scene\":{\"xaxis\":{\"backgroundcolor\":\"#E5ECF6\",\"gridcolor\":\"white\",\"linecolor\":\"white\",\"showbackground\":true,\"ticks\":\"\",\"zerolinecolor\":\"white\",\"gridwidth\":2},\"yaxis\":{\"backgroundcolor\":\"#E5ECF6\",\"gridcolor\":\"white\",\"linecolor\":\"white\",\"showbackground\":true,\"ticks\":\"\",\"zerolinecolor\":\"white\",\"gridwidth\":2},\"zaxis\":{\"backgroundcolor\":\"#E5ECF6\",\"gridcolor\":\"white\",\"linecolor\":\"white\",\"showbackground\":true,\"ticks\":\"\",\"zerolinecolor\":\"white\",\"gridwidth\":2}},\"shapedefaults\":{\"line\":{\"color\":\"#2a3f5f\"}},\"annotationdefaults\":{\"arrowcolor\":\"#2a3f5f\",\"arrowhead\":0,\"arrowwidth\":1},\"geo\":{\"bgcolor\":\"white\",\"landcolor\":\"#E5ECF6\",\"subunitcolor\":\"white\",\"showland\":true,\"showlakes\":true,\"lakecolor\":\"white\"},\"title\":{\"x\":0.05},\"mapbox\":{\"style\":\"light\"},\"margin\":{\"b\":0,\"l\":0,\"r\":0,\"t\":30}}},\"xaxis\":{\"anchor\":\"y\",\"domain\":[0.0,1.0],\"title\":{\"text\":\"Change in Visa-Free Destinations (\\u0394V)\"}},\"yaxis\":{\"anchor\":\"x\",\"domain\":[0.0,1.0],\"title\":{\"text\":\"Country\"}},\"coloraxis\":{\"colorbar\":{\"title\":{\"text\":\"Change in Visa-Free Destinations (\\u0394V)\"}},\"colorscale\":[[0.0,\"#440154\"],[0.1111111111111111,\"#482878\"],[0.2222222222222222,\"#3e4989\"],[0.3333333333333333,\"#31688e\"],[0.4444444444444444,\"#26828e\"],[0.5555555555555556,\"#1f9e89\"],[0.6666666666666666,\"#35b779\"],[0.7777777777777778,\"#6ece58\"],[0.8888888888888888,\"#b5de2b\"],[1.0,\"#fde725\"]]},\"legend\":{\"tracegroupgap\":0},\"title\":{\"text\":\"Passport Power Improvement (2016\\u20132025)\"},\"barmode\":\"relative\",\"height\":800,\"width\":1000,\"plot_bgcolor\":\"white\"},                        {\"responsive\": true}                    ).then(function(){\n",
       "                            \n",
       "var gd = document.getElementById('6e870614-5a34-42c1-96a9-9155713f2873');\n",
       "var x = new MutationObserver(function (mutations, observer) {{\n",
       "        var display = window.getComputedStyle(gd).display;\n",
       "        if (!display || display === 'none') {{\n",
       "            console.log([gd, 'removed!']);\n",
       "            Plotly.purge(gd);\n",
       "            observer.disconnect();\n",
       "        }}\n",
       "}});\n",
       "\n",
       "// Listen for the removal of the full notebook cells\n",
       "var notebookContainer = gd.closest('#notebook-container');\n",
       "if (notebookContainer) {{\n",
       "    x.observe(notebookContainer, {childList: true});\n",
       "}}\n",
       "\n",
       "// Listen for the clearing of the current output cell\n",
       "var outputEl = gd.closest('.output');\n",
       "if (outputEl) {{\n",
       "    x.observe(outputEl, {childList: true});\n",
       "}}\n",
       "\n",
       "                        })                };                });            </script>        </div>"
      ]
     },
     "metadata": {},
     "output_type": "display_data"
    }
   ],
   "source": [
    "# | label: fig-passport-bar\n",
    "# | fig-cap: \"Country Passport Power Improvement\"\n",
    "\n",
    "# Compute ΔV again from df2 \n",
    "base = df2[df2[\"year\"] == 2016][[\"country\", \"visa_free_count\"]].rename(columns={\"visa_free_count\": \"V_2016\"})\n",
    "comp = df2[df2[\"year\"] == 2025][[\"country\", \"visa_free_count\"]].rename(columns={\"visa_free_count\": \"V_2025\"})\n",
    "delta = base.merge(comp, on=\"country\", how=\"inner\")\n",
    "delta[\"Delta_V\"] = delta[\"V_2025\"] - delta[\"V_2016\"]\n",
    "\n",
    "# Bar chart \n",
    "fig = px.bar(\n",
    "    delta.sort_values(\"Delta_V\", ascending=True),\n",
    "    x=\"Delta_V\",\n",
    "    y=\"country\",                     #\n",
    "    orientation=\"h\",\n",
    "    color=\"Delta_V\",\n",
    "    color_continuous_scale=\"Viridis\",\n",
    "    title=\"Passport Power Improvement (2016–2025)\",\n",
    "    labels={\"Delta_V\": \"Change in Visa-Free Destinations (ΔV)\", \"country\": \"Country\"},\n",
    "    width=1000,\n",
    "    height=800\n",
    ")\n",
    "fig.update_layout(plot_bgcolor=\"white\")\n",
    "fig.show()"
   ]
  },
  {
   "cell_type": "markdown",
   "id": "d8fe3738-35bc-4880-98fe-ebde88bfcd5e",
   "metadata": {},
   "source": [
    "# Conclusion\n",
    "Between 2016 and 2025, there is an average trend of improvement in global mobility as seen on @fig-passport-map. \n",
    "\n",
    "The data shows a significant asymmetry in countries that have gained or lost mobility privileges. \n",
    "As shown in @fig-passport-bar, North Macedonia emerges as the most significant improver in passport power with a **$\\Delta P$ of 129**. Some countries like Venezuela and Vanuata showed a **negative $\\Delta P$** highlighting heightened diplomatic instability in such countries. "
   ]
  },
  {
   "cell_type": "code",
   "execution_count": 3,
   "id": "decb56f6-d4d5-486d-9e77-a5db0ce80cbc",
   "metadata": {},
   "outputs": [],
   "source": []
  }
 ],
 "metadata": {
  "kernelspec": {
   "display_name": "Python 3 (ipykernel)",
   "language": "python",
   "name": "python3"
  },
  "language_info": {
   "codemirror_mode": {
    "name": "ipython",
    "version": 3
   },
   "file_extension": ".py",
   "mimetype": "text/x-python",
   "name": "python",
   "nbconvert_exporter": "python",
   "pygments_lexer": "ipython3",
   "version": "3.12.4"
  }
 },
 "nbformat": 4,
 "nbformat_minor": 5
}

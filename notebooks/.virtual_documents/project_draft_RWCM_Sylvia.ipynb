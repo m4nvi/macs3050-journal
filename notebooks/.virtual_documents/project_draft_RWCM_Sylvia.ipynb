





import pandas as pd
import matplotlib.pyplot as plt

# Load the CSV (skip metadata rows if needed)
df = pd.read_csv("Leontief_Matrix.csv", skiprows=3)

# Show the first few rows to confirm structure
display(df.head())

# Example bar chart:
# Let's take the first industry row and plot its requirements across all industries
row = df.iloc[0, 2:]   # numeric values (skip first 2 cols: industry code & description)

plt.figure(figsize=(14,6))
plt.bar(df.columns[2:], row)
plt.xticks(rotation=90)
plt.ylabel("Total Requirements")
plt.title(f"Industry Requirements for {df.iloc[0,1]} ({df.iloc[0,0]})")
plt.tight_layout()
plt.show()



import pandas as pd

df = pd.read_csv("Leontief_Matrix.csv", skiprows=3)

print(df.columns[:10])   # check first 10 columns
print(df.head(3))        # preview first 3 rows



# | label: fig-label-to-make-reference
# | fig-cap: "Heatmap of Industries in the CSV file"
import pandas as pd
import matplotlib.pyplot as plt
import seaborn as sns

# Read CSV (skip metadata rows)
df = pd.read_csv("Leontief_Matrix.csv", skiprows=3)

# Drop the first two identifier columns: industry code + description
matrix = df.drop(columns=[df.columns[0], df.columns[1]])

# Make sure everything is numeric
matrix = matrix.apply(pd.to_numeric, errors="coerce")

# Plot heatmap
plt.figure(figsize=(14, 12))
sns.heatmap(matrix, cmap="Blues", cbar=True)
plt.title("Leontief Total Requirements Matrix", fontsize=14)
plt.xlabel("Industries (Outputs)")
plt.ylabel("Industries (Inputs)")
plt.show()





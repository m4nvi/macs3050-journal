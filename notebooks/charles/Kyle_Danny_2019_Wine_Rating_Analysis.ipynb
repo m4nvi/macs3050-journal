{
 "cells": [
  {
   "cell_type": "raw",
   "id": "f805e474-afc3-4e90-ac5d-1d6ba1f4f1df",
   "metadata": {},
   "source": [
    "---\n",
    "title: \"Network Representation Of Wine Ratings in 2019\"\n",
    "author: \"Kyle Truschel & Danny Vanegas\"\n",
    "date: today\n",
    "format:\n",
    "    html:\n",
    "        code-fold: true\n",
    "        theme: journal\n",
    "---"
   ]
  },
  {
   "cell_type": "markdown",
   "id": "a40f4171-acc2-4323-b885-e7f76759826a",
   "metadata": {},
   "source": [
    "# Introduction\n",
    "What makes a good wine? The country of production, it's price, or the critic? Our group decided to analyze wine ratings of a dataset from 2019. We aim to explore a few of the features to uncover patterns that may influence a wine's rating. Understanding these factors can help consumers make better choices to their wine selection and discover potential biases in wine reviews."
   ]
  },
  {
   "cell_type": "markdown",
   "id": "0ee7ad28-ea80-45ed-a618-dd993fd1e734",
   "metadata": {},
   "source": [
    " <img src=\"https://images.pexels.com/photos/3171158/pexels-photo-3171158.jpeg\" alt=\"Person pouring wine in wine glass\" width=\"500\" height=\"600\"> "
   ]
  },
  {
   "cell_type": "markdown",
   "id": "a32322a7-9392-45e8-ba26-0807a3c95a3a",
   "metadata": {},
   "source": [
    "# Data Exploration"
   ]
  },
  {
   "cell_type": "markdown",
   "id": "6e35543e-4904-4a92-9ef6-d0f01fb612d9",
   "metadata": {},
   "source": [
    "## Importing Libraries"
   ]
  },
  {
   "cell_type": "code",
   "execution_count": 1,
   "id": "35cef40a-49b9-4083-8ea1-687b96cfce2d",
   "metadata": {},
   "outputs": [],
   "source": [
    "#| output: true\n",
    "#| echo: true\n",
    "#-----------------------------------------------------------------------------------------------------------------------------------------------------------------------------------|\n",
    "import pandas as pd\n",
    "import numpy as np\n",
    "import matplotlib.pyplot as plt\n",
    "csv_path = \"https://raw.githubusercontent.com/rfordatascience/tidytuesday/main/data/2019/2019-05-28/winemag-data-130k-v2.csv\"\n",
    "data = pd.read_csv(csv_path)"
   ]
  },
  {
   "cell_type": "markdown",
   "id": "4348bddc-11bd-420f-b075-0413f2bde3b4",
   "metadata": {},
   "source": [
    "## Creating Main Dataset from CSV"
   ]
  },
  {
   "cell_type": "code",
   "execution_count": 2,
   "id": "40932b7d-03d2-4e7f-9d75-90e56efca87b",
   "metadata": {},
   "outputs": [],
   "source": [
    "#| output: false\n",
    "#| echo: true\n",
    "#-----------------------------------------------------------------------------------------------------------------------------------------------------------------------------------|\n",
    "# Renaming & Subsetting\n",
    "#-----------------------------------------------------------------------------------------------------------------------------------------------------------------------------------|\n",
    "## Recieves an array of all columns in the dataset\n",
    "#print(data.columns)\n",
    "\n",
    "data = data.rename(columns={ 'country':'Country', 'description':'Description', 'designation':'Designation', 'points':'Score', 'price':'Price', 'province':'Province', 'region_1':'Region 1', 'region_2':'Region 2', \n",
    "                            'taster_name':'Critic', 'taster_twitter_handle':'Twitter Handle', 'title':'Title', 'variety':'Variety', 'winery':'Winery'})\n",
    "\n",
    "## Creating subset of our data to be the main dataframe\n",
    "df = data[[\n",
    "    'Country',\n",
    "    #'Description', 'Designation',\n",
    "    'Score', 'Price', 'Province',\n",
    "    #'Region 1', 'Region 2',\n",
    "    'Critic',\n",
    "    #'Twitter Handle', \n",
    "    'Title', 'Variety', 'Winery']].copy()"
   ]
  },
  {
   "cell_type": "code",
   "execution_count": 3,
   "id": "a9a84e64-0abc-4a8f-aa60-27d806c1bd67",
   "metadata": {},
   "outputs": [
    {
     "data": {
      "text/plain": [
       "(129971, 8)"
      ]
     },
     "execution_count": 3,
     "metadata": {},
     "output_type": "execute_result"
    }
   ],
   "source": [
    "#| output: false\n",
    "#| echo: false\n",
    "#-----------------------------------------------------------------------------------------------------------------------------------------------------------------------------------|\n",
    "## Describing the shape of df before dropping rows\n",
    "df.shape"
   ]
  },
  {
   "cell_type": "code",
   "execution_count": 4,
   "id": "4989095b-8e89-4dd5-acb7-6d0e513d3fed",
   "metadata": {},
   "outputs": [],
   "source": [
    "#| output: false\n",
    "#| echo: false\n",
    "#-----------------------------------------------------------------------------------------------------------------------------------------------------------------------------------|\n",
    "# CLEANING DATASET #\n",
    "#-----------------------------------------------------------------------------------------------------------------------------------------------------------------------------------|"
   ]
  },
  {
   "cell_type": "code",
   "execution_count": 5,
   "id": "5c2dc48d-db4a-4b5c-9d40-10dbeb89cd24",
   "metadata": {},
   "outputs": [
    {
     "data": {
      "text/plain": [
       "(119870, 8)"
      ]
     },
     "execution_count": 5,
     "metadata": {},
     "output_type": "execute_result"
    }
   ],
   "source": [
    "#| output: false\n",
    "#| echo: false\n",
    "#-----------------------------------------------------------------------------------------------------------------------------------------------------------------------------------|\n",
    "## Cleaning Duplicated Values ##\n",
    "#-----------------------------------------------------------------------------------------------------------------------------------------------------------------------------------|\n",
    "### Locating all instances of rows that have equal values to another row\n",
    "#df.loc[df.duplicated()]\n",
    "\n",
    "### Analyzing a duplicated row to determine why there is a duplicated row in the dataframe\n",
    "#df.query('Title == \"Souverain 2010 Chardonnay (North Coast)\"') \n",
    "#/ Results show every value is duplicated thus an error in the data set\n",
    "\n",
    "### Subseting our main datafram by locating all rows that are 1st instance of there values thus no duplicated rows & resetting index\n",
    "df = df.loc[~df.duplicated(subset=['Score','Price','Critic','Title','Winery'])] \\\n",
    "        .reset_index(drop=True).copy()\n",
    "df.index += 1\n",
    "\n",
    "### Describing the shape of df after dropping rows\n",
    "df.shape"
   ]
  },
  {
   "cell_type": "code",
   "execution_count": 6,
   "id": "4b85d932-bdd6-40b7-a1f8-879a9c4f5f2a",
   "metadata": {},
   "outputs": [
    {
     "data": {
      "text/plain": [
       "Country        59\n",
       "Score           0\n",
       "Price        8381\n",
       "Province       59\n",
       "Critic      24898\n",
       "Title           0\n",
       "Variety         1\n",
       "Winery          0\n",
       "dtype: int64"
      ]
     },
     "execution_count": 6,
     "metadata": {},
     "output_type": "execute_result"
    }
   ],
   "source": [
    "#| output: false\n",
    "#| echo: false\n",
    "#-----------------------------------------------------------------------------------------------------------------------------------------------------------------------------------|\n",
    "## Cleaning Missing Values ##\n",
    "#-----------------------------------------------------------------------------------------------------------------------------------------------------------------------------------|\n",
    "#/ Checking amount of null values in df\n",
    "df.isna().sum()"
   ]
  },
  {
   "cell_type": "code",
   "execution_count": 7,
   "id": "0ba0618b-edec-4477-ae1f-17427032d28d",
   "metadata": {},
   "outputs": [],
   "source": [
    "#| output: false\n",
    "#| echo: false\n",
    "#-----------------------------------------------------------------------------------------------------------------------------------------------------------------------------------|\n",
    "## Dropping rows with missing values in columns Country & Variety\n",
    "#/ White wine = dataset with filtered; priced wine\n",
    "#/ Red wine = dataset without filter; unpriced wines\n",
    "white_wine = df.dropna(subset=['Country','Variety','Price'], inplace=False).copy()\n",
    "rose_wine = df.dropna(subset=['Country','Variety','Price'], inplace=False).copy()\n",
    "red_wine = df.dropna(subset=['Country','Variety'], inplace=False).copy()\n",
    "#-----------------------------------------------------------------------------------------------------------------------------------------------------------------------------------|\n",
    "## Replacing null values in Critic with Unknown\n",
    "white_wine.loc[:,('Critic')] = white_wine['Critic'].fillna('Unknown')\n",
    "rose_wine.loc[:,('Critic')] = rose_wine['Critic'].fillna('Unknown')\n",
    "red_wine.loc[:,('Critic')] = red_wine['Critic'].fillna('Unknown')\n",
    "\n",
    "## Replacing null values in Price with Zero\n",
    "red_wine.loc[:,('Price')] = red_wine['Price'].fillna(0)"
   ]
  },
  {
   "cell_type": "code",
   "execution_count": 8,
   "id": "f39d0564-0652-45ef-8231-bf073af808a7",
   "metadata": {},
   "outputs": [
    {
     "data": {
      "text/plain": [
       "Country     0\n",
       "Score       0\n",
       "Price       0\n",
       "Province    0\n",
       "Critic      0\n",
       "Title       0\n",
       "Variety     0\n",
       "Winery      0\n",
       "dtype: int64"
      ]
     },
     "execution_count": 8,
     "metadata": {},
     "output_type": "execute_result"
    }
   ],
   "source": [
    "#| output: false\n",
    "#| echo: false\n",
    "#-----------------------------------------------------------------------------------------------------------------------------------------------------------------------------------|\n",
    "## Verifying all null values have been dropped/filled\n",
    "white_wine.isna().sum()"
   ]
  },
  {
   "cell_type": "code",
   "execution_count": 9,
   "id": "f580eac2-d3de-4a10-b4a6-a694cdfc6de0",
   "metadata": {},
   "outputs": [
    {
     "data": {
      "text/plain": [
       "Country     0\n",
       "Score       0\n",
       "Price       0\n",
       "Province    0\n",
       "Critic      0\n",
       "Title       0\n",
       "Variety     0\n",
       "Winery      0\n",
       "dtype: int64"
      ]
     },
     "execution_count": 9,
     "metadata": {},
     "output_type": "execute_result"
    }
   ],
   "source": [
    "#| output: false\n",
    "#| echo: false\n",
    "#-----------------------------------------------------------------------------------------------------------------------------------------------------------------------------------|\n",
    "## Verifying all null values have been dropped/filled\n",
    "rose_wine.isna().sum()"
   ]
  },
  {
   "cell_type": "code",
   "execution_count": 10,
   "id": "9f9e957a-974c-4dc0-adbe-a5094fa0428c",
   "metadata": {},
   "outputs": [
    {
     "data": {
      "text/plain": [
       "Country     0\n",
       "Score       0\n",
       "Price       0\n",
       "Province    0\n",
       "Critic      0\n",
       "Title       0\n",
       "Variety     0\n",
       "Winery      0\n",
       "dtype: int64"
      ]
     },
     "execution_count": 10,
     "metadata": {},
     "output_type": "execute_result"
    }
   ],
   "source": [
    "#| output: false\n",
    "#| echo: false\n",
    "#-----------------------------------------------------------------------------------------------------------------------------------------------------------------------------------|\n",
    "## Verifying all null values have been dropped/filled\n",
    "red_wine.isna().sum()"
   ]
  },
  {
   "cell_type": "code",
   "execution_count": 11,
   "id": "aca8f8f4-1f1f-494c-b56a-7d00dc7f2fbd",
   "metadata": {},
   "outputs": [],
   "source": [
    "#| output: false\n",
    "#| echo: false\n",
    "#-----------------------------------------------------------------------------------------------------------------------------------------------------------------------------------|\n",
    "## Resetting indexes\n",
    "white_wine = white_wine.reset_index(drop=True).copy()\n",
    "white_wine.index += 1\n",
    "\n",
    "rose_wine = rose_wine.reset_index(drop=True).copy()\n",
    "rose_wine.index += 1\n",
    "\n",
    "red_wine = red_wine.reset_index(drop=True).copy()\n",
    "red_wine.index += 1"
   ]
  },
  {
   "cell_type": "code",
   "execution_count": 12,
   "id": "c8bce13d-1dd3-467f-bb3c-a75b489caf13",
   "metadata": {},
   "outputs": [
    {
     "data": {
      "text/plain": [
       "Country     0\n",
       "Score       0\n",
       "Price       0\n",
       "Province    0\n",
       "Critic      0\n",
       "Title       0\n",
       "Variety     0\n",
       "Winery      0\n",
       "dtype: int64"
      ]
     },
     "execution_count": 12,
     "metadata": {},
     "output_type": "execute_result"
    }
   ],
   "source": [
    "#| output: false\n",
    "#| echo: false\n",
    "#-----------------------------------------------------------------------------------------------------------------------------------------------------------------------------------|\n",
    "## Verification\n",
    "## Verifying no null values in dataframe after clean up\n",
    "white_wine.isna().sum()"
   ]
  },
  {
   "cell_type": "code",
   "execution_count": 13,
   "id": "91602412-77e9-4e57-8f36-81cd0623cb6b",
   "metadata": {},
   "outputs": [
    {
     "data": {
      "text/plain": [
       "Country     0\n",
       "Score       0\n",
       "Price       0\n",
       "Province    0\n",
       "Critic      0\n",
       "Title       0\n",
       "Variety     0\n",
       "Winery      0\n",
       "dtype: int64"
      ]
     },
     "execution_count": 13,
     "metadata": {},
     "output_type": "execute_result"
    }
   ],
   "source": [
    "#| output: false\n",
    "#| echo: false\n",
    "#-----------------------------------------------------------------------------------------------------------------------------------------------------------------------------------|\n",
    "rose_wine.isna().sum()"
   ]
  },
  {
   "cell_type": "code",
   "execution_count": 14,
   "id": "beb05c67-5e26-4b74-9e47-60e0028edaf6",
   "metadata": {},
   "outputs": [
    {
     "data": {
      "text/plain": [
       "Country     0\n",
       "Score       0\n",
       "Price       0\n",
       "Province    0\n",
       "Critic      0\n",
       "Title       0\n",
       "Variety     0\n",
       "Winery      0\n",
       "dtype: int64"
      ]
     },
     "execution_count": 14,
     "metadata": {},
     "output_type": "execute_result"
    }
   ],
   "source": [
    "#| output: false\n",
    "#| echo: false\n",
    "#-----------------------------------------------------------------------------------------------------------------------------------------------------------------------------------|\n",
    "red_wine.isna().sum()"
   ]
  },
  {
   "cell_type": "code",
   "execution_count": 15,
   "id": "2b005d02-bb0f-4510-a63f-8aed47a8f5c4",
   "metadata": {},
   "outputs": [
    {
     "data": {
      "text/plain": [
       "(111433, 8)"
      ]
     },
     "execution_count": 15,
     "metadata": {},
     "output_type": "execute_result"
    }
   ],
   "source": [
    "#| output: false\n",
    "#| echo: false\n",
    "#-----------------------------------------------------------------------------------------------------------------------------------------------------------------------------------|\n",
    "## Describing the shape of df\n",
    "white_wine.shape"
   ]
  },
  {
   "cell_type": "code",
   "execution_count": 16,
   "id": "0d2e3c78-3c6e-4276-a7cd-000fc3c69cb6",
   "metadata": {},
   "outputs": [
    {
     "data": {
      "text/plain": [
       "(111433, 8)"
      ]
     },
     "execution_count": 16,
     "metadata": {},
     "output_type": "execute_result"
    }
   ],
   "source": [
    "#| output: false\n",
    "#| echo: false\n",
    "#-----------------------------------------------------------------------------------------------------------------------------------------------------------------------------------|\n",
    "##Describing the shape of df\n",
    "rose_wine.shape"
   ]
  },
  {
   "cell_type": "code",
   "execution_count": 17,
   "id": "9524b2b0-f5a8-45f7-8fdc-0bab4600085b",
   "metadata": {},
   "outputs": [
    {
     "data": {
      "text/plain": [
       "(119810, 8)"
      ]
     },
     "execution_count": 17,
     "metadata": {},
     "output_type": "execute_result"
    }
   ],
   "source": [
    "#| output: false\n",
    "#| echo: false\n",
    "#-----------------------------------------------------------------------------------------------------------------------------------------------------------------------------------|\n",
    "##Describing the shape of df\n",
    "red_wine.shape"
   ]
  },
  {
   "cell_type": "code",
   "execution_count": 18,
   "id": "49847010-b9ae-4391-8f72-b2a8a85e7a2c",
   "metadata": {},
   "outputs": [
    {
     "data": {
      "text/html": [
       "<div>\n",
       "<style scoped>\n",
       "    .dataframe tbody tr th:only-of-type {\n",
       "        vertical-align: middle;\n",
       "    }\n",
       "\n",
       "    .dataframe tbody tr th {\n",
       "        vertical-align: top;\n",
       "    }\n",
       "\n",
       "    .dataframe thead th {\n",
       "        text-align: right;\n",
       "    }\n",
       "</style>\n",
       "<table border=\"1\" class=\"dataframe\">\n",
       "  <thead>\n",
       "    <tr style=\"text-align: right;\">\n",
       "      <th></th>\n",
       "      <th>Country</th>\n",
       "      <th>Score</th>\n",
       "      <th>Price</th>\n",
       "      <th>Province</th>\n",
       "      <th>Critic</th>\n",
       "      <th>Title</th>\n",
       "      <th>Variety</th>\n",
       "      <th>Winery</th>\n",
       "    </tr>\n",
       "  </thead>\n",
       "  <tbody>\n",
       "    <tr>\n",
       "      <th>1</th>\n",
       "      <td>Portugal</td>\n",
       "      <td>87</td>\n",
       "      <td>15.0</td>\n",
       "      <td>Douro</td>\n",
       "      <td>Roger Voss</td>\n",
       "      <td>Quinta dos Avidagos 2011 Avidagos Red (Douro)</td>\n",
       "      <td>Portuguese Red</td>\n",
       "      <td>Quinta dos Avidagos</td>\n",
       "    </tr>\n",
       "    <tr>\n",
       "      <th>2</th>\n",
       "      <td>US</td>\n",
       "      <td>87</td>\n",
       "      <td>14.0</td>\n",
       "      <td>Oregon</td>\n",
       "      <td>Paul Gregutt</td>\n",
       "      <td>Rainstorm 2013 Pinot Gris (Willamette Valley)</td>\n",
       "      <td>Pinot Gris</td>\n",
       "      <td>Rainstorm</td>\n",
       "    </tr>\n",
       "    <tr>\n",
       "      <th>3</th>\n",
       "      <td>US</td>\n",
       "      <td>87</td>\n",
       "      <td>13.0</td>\n",
       "      <td>Michigan</td>\n",
       "      <td>Alexander Peartree</td>\n",
       "      <td>St. Julian 2013 Reserve Late Harvest Riesling ...</td>\n",
       "      <td>Riesling</td>\n",
       "      <td>St. Julian</td>\n",
       "    </tr>\n",
       "    <tr>\n",
       "      <th>4</th>\n",
       "      <td>US</td>\n",
       "      <td>87</td>\n",
       "      <td>65.0</td>\n",
       "      <td>Oregon</td>\n",
       "      <td>Paul Gregutt</td>\n",
       "      <td>Sweet Cheeks 2012 Vintner's Reserve Wild Child...</td>\n",
       "      <td>Pinot Noir</td>\n",
       "      <td>Sweet Cheeks</td>\n",
       "    </tr>\n",
       "    <tr>\n",
       "      <th>5</th>\n",
       "      <td>Spain</td>\n",
       "      <td>87</td>\n",
       "      <td>15.0</td>\n",
       "      <td>Northern Spain</td>\n",
       "      <td>Michael Schachner</td>\n",
       "      <td>Tandem 2011 Ars In Vitro Tempranillo-Merlot (N...</td>\n",
       "      <td>Tempranillo-Merlot</td>\n",
       "      <td>Tandem</td>\n",
       "    </tr>\n",
       "    <tr>\n",
       "      <th>...</th>\n",
       "      <td>...</td>\n",
       "      <td>...</td>\n",
       "      <td>...</td>\n",
       "      <td>...</td>\n",
       "      <td>...</td>\n",
       "      <td>...</td>\n",
       "      <td>...</td>\n",
       "      <td>...</td>\n",
       "    </tr>\n",
       "    <tr>\n",
       "      <th>111429</th>\n",
       "      <td>Germany</td>\n",
       "      <td>90</td>\n",
       "      <td>28.0</td>\n",
       "      <td>Mosel</td>\n",
       "      <td>Anna Lee C. Iijima</td>\n",
       "      <td>Dr. H. Thanisch (Erben Müller-Burggraef) 2013 ...</td>\n",
       "      <td>Riesling</td>\n",
       "      <td>Dr. H. Thanisch (Erben Müller-Burggraef)</td>\n",
       "    </tr>\n",
       "    <tr>\n",
       "      <th>111430</th>\n",
       "      <td>US</td>\n",
       "      <td>90</td>\n",
       "      <td>75.0</td>\n",
       "      <td>Oregon</td>\n",
       "      <td>Paul Gregutt</td>\n",
       "      <td>Citation 2004 Pinot Noir (Oregon)</td>\n",
       "      <td>Pinot Noir</td>\n",
       "      <td>Citation</td>\n",
       "    </tr>\n",
       "    <tr>\n",
       "      <th>111431</th>\n",
       "      <td>France</td>\n",
       "      <td>90</td>\n",
       "      <td>30.0</td>\n",
       "      <td>Alsace</td>\n",
       "      <td>Roger Voss</td>\n",
       "      <td>Domaine Gresser 2013 Kritt Gewurztraminer (Als...</td>\n",
       "      <td>Gewürztraminer</td>\n",
       "      <td>Domaine Gresser</td>\n",
       "    </tr>\n",
       "    <tr>\n",
       "      <th>111432</th>\n",
       "      <td>France</td>\n",
       "      <td>90</td>\n",
       "      <td>32.0</td>\n",
       "      <td>Alsace</td>\n",
       "      <td>Roger Voss</td>\n",
       "      <td>Domaine Marcel Deiss 2012 Pinot Gris (Alsace)</td>\n",
       "      <td>Pinot Gris</td>\n",
       "      <td>Domaine Marcel Deiss</td>\n",
       "    </tr>\n",
       "    <tr>\n",
       "      <th>111433</th>\n",
       "      <td>France</td>\n",
       "      <td>90</td>\n",
       "      <td>21.0</td>\n",
       "      <td>Alsace</td>\n",
       "      <td>Roger Voss</td>\n",
       "      <td>Domaine Schoffit 2012 Lieu-dit Harth Cuvée Car...</td>\n",
       "      <td>Gewürztraminer</td>\n",
       "      <td>Domaine Schoffit</td>\n",
       "    </tr>\n",
       "  </tbody>\n",
       "</table>\n",
       "<p>111433 rows × 8 columns</p>\n",
       "</div>"
      ],
      "text/plain": [
       "         Country  Score  Price        Province              Critic  \\\n",
       "1       Portugal     87   15.0           Douro          Roger Voss   \n",
       "2             US     87   14.0          Oregon        Paul Gregutt   \n",
       "3             US     87   13.0        Michigan  Alexander Peartree   \n",
       "4             US     87   65.0          Oregon        Paul Gregutt   \n",
       "5          Spain     87   15.0  Northern Spain   Michael Schachner   \n",
       "...          ...    ...    ...             ...                 ...   \n",
       "111429   Germany     90   28.0           Mosel  Anna Lee C. Iijima   \n",
       "111430        US     90   75.0          Oregon        Paul Gregutt   \n",
       "111431    France     90   30.0          Alsace          Roger Voss   \n",
       "111432    France     90   32.0          Alsace          Roger Voss   \n",
       "111433    France     90   21.0          Alsace          Roger Voss   \n",
       "\n",
       "                                                    Title             Variety  \\\n",
       "1           Quinta dos Avidagos 2011 Avidagos Red (Douro)      Portuguese Red   \n",
       "2           Rainstorm 2013 Pinot Gris (Willamette Valley)          Pinot Gris   \n",
       "3       St. Julian 2013 Reserve Late Harvest Riesling ...            Riesling   \n",
       "4       Sweet Cheeks 2012 Vintner's Reserve Wild Child...          Pinot Noir   \n",
       "5       Tandem 2011 Ars In Vitro Tempranillo-Merlot (N...  Tempranillo-Merlot   \n",
       "...                                                   ...                 ...   \n",
       "111429  Dr. H. Thanisch (Erben Müller-Burggraef) 2013 ...            Riesling   \n",
       "111430                  Citation 2004 Pinot Noir (Oregon)          Pinot Noir   \n",
       "111431  Domaine Gresser 2013 Kritt Gewurztraminer (Als...      Gewürztraminer   \n",
       "111432      Domaine Marcel Deiss 2012 Pinot Gris (Alsace)          Pinot Gris   \n",
       "111433  Domaine Schoffit 2012 Lieu-dit Harth Cuvée Car...      Gewürztraminer   \n",
       "\n",
       "                                          Winery  \n",
       "1                            Quinta dos Avidagos  \n",
       "2                                      Rainstorm  \n",
       "3                                     St. Julian  \n",
       "4                                   Sweet Cheeks  \n",
       "5                                         Tandem  \n",
       "...                                          ...  \n",
       "111429  Dr. H. Thanisch (Erben Müller-Burggraef)  \n",
       "111430                                  Citation  \n",
       "111431                           Domaine Gresser  \n",
       "111432                      Domaine Marcel Deiss  \n",
       "111433                          Domaine Schoffit  \n",
       "\n",
       "[111433 rows x 8 columns]"
      ]
     },
     "execution_count": 18,
     "metadata": {},
     "output_type": "execute_result"
    }
   ],
   "source": [
    "#| output: true\n",
    "#| echo: false\n",
    "#-----------------------------------------------------------------------------------------------------------------------------------------------------------------------------------|\n",
    "## Displaying Cleaned dataset with unpriced wine\n",
    "white_wine.iloc[:]"
   ]
  },
  {
   "cell_type": "code",
   "execution_count": 19,
   "id": "f7e3029b-51d1-4c89-b682-3e6242de764e",
   "metadata": {},
   "outputs": [],
   "source": [
    "#| output: false\n",
    "#| echo: false\n",
    "#-----------------------------------------------------------------------------------------------------------------------------------------------------------------------------------|\n",
    "# CREATING SUBSETS #\n",
    "#-----------------------------------------------------------------------------------------------------------------------------------------------------------------------------------|"
   ]
  },
  {
   "cell_type": "code",
   "execution_count": 20,
   "id": "9310484e-8489-4955-b3db-e70c9125263a",
   "metadata": {},
   "outputs": [],
   "source": [
    "#| output: false\n",
    "#| echo: false\n",
    "#-----------------------------------------------------------------------------------------------------------------------------------------------------------------------------------|\n",
    "## Filtering Datasets ##\n",
    "#-----------------------------------------------------------------------------------------------------------------------------------------------------------------------------------|\n",
    "### Sorting Main dataset\n",
    "#### By Highest Score\n",
    "wine_by_score = white_wine.sort_values(by=['Score'], ascending=False) \\\n",
    "                .reset_index(drop=True).copy()\n",
    "wine_by_score.index += 1\n",
    "\n",
    "#### By Highest Price\n",
    "wine_by_price = white_wine.sort_values(by=['Price'], ascending=False) \\\n",
    "                .reset_index(drop=True).copy()\n",
    "wine_by_price.index += 1"
   ]
  },
  {
   "cell_type": "code",
   "execution_count": 21,
   "id": "14a6381b-47ab-4ab9-bf3d-97fbffad5870",
   "metadata": {},
   "outputs": [],
   "source": [
    "#| output: false\n",
    "#| echo: false\n",
    "#-----------------------------------------------------------------------------------------------------------------------------------------------------------------------------------|\n",
    "### Filtering data by Country of origin\n",
    "#/ Countries chosen by most representation and key locations in the world\n",
    "us_wines = rose_wine.loc[rose_wine['Country']=='US']\n",
    "fr_wines = rose_wine.loc[rose_wine['Country']=='France']\n",
    "it_wines = rose_wine.loc[rose_wine['Country']=='Italy']\n",
    "sp_wines = rose_wine.loc[rose_wine['Country']=='Spain']\n",
    "po_wines = rose_wine.loc[rose_wine['Country']=='Portugal']\n",
    "au_wines = rose_wine.loc[rose_wine['Country']=='Australia']\n",
    "ge_wines = rose_wine.loc[rose_wine['Country']=='Germany']\n",
    "#-----------------------------------------------------------------------------------------------------------------------------------------------------------------------------------|\n",
    "wines = [us_wines, fr_wines, it_wines, sp_wines, po_wines, au_wines, ge_wines]\n",
    "wines_by_score = []\n",
    "wines_by_price = []\n",
    "\n",
    "#/ US = 0 | FRANCE = 1 | ITALY = 2 | SPAIN = 3 | PORTUGAL = 4 | AUSTRALIA = 5 | GREECE = 6 \n",
    "#/ For each subset sort by highest score and add to wines_by_score[]\n",
    "for wine in wines:\n",
    "    wine = wine.sort_values(by=['Score'],ascending=False).reset_index(drop=True).copy()\n",
    "    wine.index += 1\n",
    "    wines_by_score.append(wine)"
   ]
  },
  {
   "cell_type": "code",
   "execution_count": 22,
   "id": "fe651853-676a-4585-9fa1-fbcfa97f2ea8",
   "metadata": {},
   "outputs": [],
   "source": [
    "#| output: false\n",
    "#| echo: false\n",
    "#-----------------------------------------------------------------------------------------------------------------------------------------------------------------------------------|\n",
    "# Numpy Preperation #\n",
    "#-----------------------------------------------------------------------------------------------------------------------------------------------------------------------------------|"
   ]
  },
  {
   "cell_type": "code",
   "execution_count": 23,
   "id": "6c2a61fb-6b0b-4e1b-9667-96d08818bad6",
   "metadata": {},
   "outputs": [],
   "source": [
    "#| output: false\n",
    "#| echo: false\n",
    "#-----------------------------------------------------------------------------------------------------------------------------------------------------------------------------------|\n",
    "## Top 100 Scoring Wine ##\n",
    "#-----------------------------------------------------------------------------------------------------------------------------------------------------------------------------------|\n",
    "### Top Wine\n",
    "top_100 = wine_by_score.iloc[:100]\n",
    "best_wine = top_100['Score'].to_numpy()\n",
    "\n",
    "### Wines in the top 100 from...\n",
    "#### US\n",
    "us_top_100 = top_100.loc[(top_100.index <= 100) & (top_100['Country']==\"US\")]\n",
    "us_top_100 = us_top_100['Score'].to_numpy()\n",
    "### France\n",
    "fr_top_100 = top_100.loc[(top_100.index <= 100) & (top_100['Country']==\"France\")]\n",
    "fr_top_100 = fr_top_100['Score'].to_numpy()\n",
    "### Italy\n",
    "it_top_100 = top_100.loc[(top_100.index <= 100) & (top_100['Country']==\"Italy\")]\n",
    "it_top_100 = it_top_100['Score'].to_numpy()\n",
    "### Spain\n",
    "sp_top_100 = top_100.loc[(top_100.index <= 100) & (top_100['Country']==\"Spain\")]\n",
    "sp_top_100 = sp_top_100['Score'].to_numpy()\n",
    "### Portugal\n",
    "po_top_100 = top_100.loc[(top_100.index <= 100) & (top_100['Country']==\"Portugal\")]\n",
    "po_top_100 = po_top_100['Score'].to_numpy()\n",
    "### Australia\n",
    "au_top_100 = top_100.loc[(top_100.index <= 100) & (top_100['Country']==\"Australia\")]\n",
    "au_top_100 = au_top_100['Score'].to_numpy()\n",
    "### Germany\n",
    "ge_top_100 = top_100.loc[(top_100.index <= 100) & (top_100['Country']==\"Germany\")]\n",
    "ge_top_100 = ge_top_100['Score'].to_numpy()\n"
   ]
  },
  {
   "cell_type": "code",
   "execution_count": 24,
   "id": "938a9e30-358f-4d0f-b9da-45199c2444ae",
   "metadata": {},
   "outputs": [],
   "source": [
    "#| output: false\n",
    "#| echo: false\n",
    "#-----------------------------------------------------------------------------------------------------------------------------------------------------------------------------------|\n",
    "### Countries individual Wines Sorted by Score\n",
    "#/ US = 0 | FRANCE = 1 | ITALY = 2 | SPAIN = 3 | PORTUGAL = 4 | AUSTRALIA = 5 | GREECE = 6\n",
    "#### US\n",
    "us_best_wine = wines_by_score[0].iloc[:]\n",
    "us_best_wine = us_best_wine['Score'].to_numpy()\n",
    "### FRANCE\n",
    "fr_best_wine = wines_by_score[1].iloc[:]\n",
    "fr_best_wine = fr_best_wine['Score'].to_numpy()\n",
    "### ITALY\n",
    "it_best_wine = wines_by_score[2].iloc[:]\n",
    "it_best_wine = it_best_wine['Score'].to_numpy()\n",
    "### SPAIN\n",
    "sp_best_wine = wines_by_score[3].iloc[:]\n",
    "sp_best_wine = sp_best_wine['Score'].to_numpy()\n",
    "### PORTUGAL\n",
    "po_best_wine = wines_by_score[4].iloc[:]\n",
    "po_best_wine = po_best_wine['Score'].to_numpy()\n",
    "### AUSTRALIA\n",
    "au_best_wine = wines_by_score[5].iloc[:]\n",
    "au_best_wine = au_best_wine['Score'].to_numpy()\n",
    "### GERMANY\n",
    "ge_best_wine = wines_by_score[6].iloc[:]\n",
    "ge_best_wine = ge_best_wine['Score'].to_numpy()"
   ]
  },
  {
   "cell_type": "markdown",
   "id": "4e636cd8-d6ca-4391-a2f0-bdf0a8e3d212",
   "metadata": {},
   "source": [
    "# Analysis"
   ]
  },
  {
   "cell_type": "markdown",
   "id": "afda39aa-29f5-4760-85bf-35733776010b",
   "metadata": {},
   "source": [
    "---"
   ]
  },
  {
   "cell_type": "markdown",
   "id": "2a3a0d2b-000d-4c52-9a45-56482ba76d3d",
   "metadata": {},
   "source": [
    "## Country of Origin\n",
    "\n",
    "The first feature we examined was the top 100 highest rated wines and their country of origin."
   ]
  },
  {
   "cell_type": "code",
   "execution_count": 25,
   "id": "9611824c-acab-488d-bdf3-6cea0c1658f7",
   "metadata": {},
   "outputs": [
    {
     "data": {
      "image/png": "[encoded data removed]",
      "text/plain": [
       "<Figure size 640x480 with 1 Axes>"
      ]
     },
     "metadata": {},
     "output_type": "display_data"
    }
   ],
   "source": [
    "#| output: true\n",
    "#| echo: true\n",
    "#| label: fig-1\n",
    "#| fig-cap: \"Wine per Country in top 100\"\n",
    "#-----------------------------------------------------------------------------------------------------------------------------------------------------------------------------------|\n",
    "## Data\n",
    "countries = ['US', 'France', 'Italy', 'Australia', 'Portugal', 'Germany', 'Spain']\n",
    "wine_counts = [37, 24, 22, 8, 7, 1, 1]\n",
    "colors = ['maroon', 'darkred', 'brown', 'firebrick', 'indianred', 'salmon', 'lightsalmon']\n",
    "\n",
    "## Create a bar plot\n",
    "fig1, ax1 = plt.subplots()\n",
    "\n",
    "ax1.bar(countries, wine_counts, color=colors)\n",
    "\n",
    "## Add labels\n",
    "plt.title('Wine per Country in Top 100')\n",
    "plt.xlabel('Country')\n",
    "plt.ylabel('Count')\n",
    "plt.show()"
   ]
  },
  {
   "cell_type": "markdown",
   "id": "a7d00585-7819-423a-82e2-0902ff219ffc",
   "metadata": {},
   "source": [
    "## Top 100"
   ]
  },
  {
   "cell_type": "code",
   "execution_count": 26,
   "id": "e645afd0-f5bc-40a0-93cb-508f03666a5a",
   "metadata": {},
   "outputs": [
    {
     "data": {
      "image/png": "[encoded data removed]",
      "text/plain": [
       "<Figure size 640x480 with 1 Axes>"
      ]
     },
     "metadata": {},
     "output_type": "display_data"
    }
   ],
   "source": [
    "#| output: true\n",
    "#| echo: true\n",
    "#| label: fig-2\n",
    "#| fig-cap: \"Composition of wine in top 100\"\n",
    "#-----------------------------------------------------------------------------------------------------------------------------------------------------------------------------------|\n",
    "## Data\n",
    "scores = ('100', '99', '98')\n",
    "country_counts = {\n",
    "          'Usa': np.array([np.sum(us_top_100 == 100), np.sum(us_top_100 == 99), np.sum(us_top_100 == 98)]),\n",
    "       'France': np.array([np.sum(fr_top_100 == 100), np.sum(fr_top_100 == 99), np.sum(fr_top_100 == 98)]),\n",
    "        'Italy': np.array([np.sum(it_top_100 == 100), np.sum(it_top_100 == 99), np.sum(it_top_100 == 98)]),\n",
    "    'Australia': np.array([np.sum(au_top_100 == 100), np.sum(au_top_100 == 99), np.sum(au_top_100 == 98)]),\n",
    "     'Portugal': np.array([np.sum(po_top_100 == 100), np.sum(po_top_100 == 99), np.sum(po_top_100 == 98)]),\n",
    "      'Germany': np.array([np.sum(ge_top_100 == 100), np.sum(ge_top_100 == 99), np.sum(ge_top_100 == 98)]),\n",
    "        'Spain': np.array([np.sum(sp_top_100 == 100), np.sum(sp_top_100 == 99), np.sum(sp_top_100 == 98)]),\n",
    "}\n",
    "colors = ['darkred', 'firebrick', 'indianred', 'lightcoral', 'navajowhite','sandybrown','peru']\n",
    "clr = 0\n",
    "width = 0.6\n",
    "\n",
    "## Creating Plot\n",
    "fig2, ax2 = plt.subplots()\n",
    "bottom = np.zeros(3)\n",
    "\n",
    "for country, country_count in country_counts.items():\n",
    "    color = colors[clr]\n",
    "    p = ax2.bar(scores, country_count, width, color=color, label=country, bottom=bottom)\n",
    "    bottom += country_count\n",
    "    clr += 1\n",
    "    \n",
    "    ax2.bar_label(p, label_type='center', color=\"white\")\n",
    "\n",
    "## Add Labels\n",
    "plt.xlabel(\"Rating\")\n",
    "plt.ylabel(\"Counts\")\n",
    "plt.title(\"Top 100 Wine by Country and Rating\")\n",
    "plt.legend()\n",
    "\n",
    "## Display the plot\n",
    "plt.show()"
   ]
  },
  {
   "cell_type": "markdown",
   "id": "9d9ea117-e571-4936-8984-71692627bf78",
   "metadata": {},
   "source": [
    "## Wine Rating Distributions"
   ]
  },
  {
   "cell_type": "code",
   "execution_count": 27,
   "id": "859d98d4-36e3-42d7-8288-f1b0d6773535",
   "metadata": {},
   "outputs": [
    {
     "data": {
      "image/png": "[encoded data removed]",
      "text/plain": [
       "<Figure size 640x480 with 1 Axes>"
      ]
     },
     "metadata": {},
     "output_type": "display_data"
    }
   ],
   "source": [
    "#| output: true\n",
    "#| echo: true\n",
    "#| label: fig-3\n",
    "#| fig-cap: \"Distribution of wine ratings by country\"\n",
    "#-----------------------------------------------------------------------------------------------------------------------------------------------------------------------------------|\n",
    "## Data\n",
    "us = us_best_wine\n",
    "fr = fr_best_wine\n",
    "it = it_best_wine\n",
    "au = au_best_wine\n",
    "positions = [1, 1.7, 2.4, 3.1]\n",
    "colors = ['maroon', 'darkred', 'firebrick', 'sandybrown']\n",
    "\n",
    "## Creating a box plot\n",
    "fig3, ax3 = plt.subplots()\n",
    "bplot = ax3.boxplot(\n",
    "            [us, fr, it, au],\n",
    "            positions=positions,\n",
    "            tick_labels=['US', 'France', 'Italy', 'Australia'],\n",
    "            patch_artist=True,\n",
    "            widths = .3,\n",
    "            showfliers=False)\n",
    "\n",
    "## Setting Options\n",
    "### Editing Range of Plot\n",
    "ax3.set_ylim(78, 100)\n",
    "ax3.set_yticks(range(78, 100, 1))\n",
    "### fill boxes with colors\n",
    "for patch, color in zip(bplot['boxes'], colors):\n",
    "    patch.set_facecolor(color)\n",
    "### Display Median per Country\n",
    "for median in bplot['medians']:\n",
    "    x, y = median.get_xdata()[1], median.get_ydata()[1]\n",
    "    ax3.text(x + 0.05, y, f'{y:.1f}', va='center', fontsize=12)\n",
    "    \n",
    "## Adding labels\n",
    "ax3.yaxis.grid(True)\n",
    "plt.xlabel('Countries')\n",
    "plt.ylabel('Wine Scores')\n",
    "plt.title('Distribution of Wine Ratings per Countries')\n",
    "\n",
    "# Display the plot\n",
    "plt.show()"
   ]
  },
  {
   "cell_type": "markdown",
   "id": "cf2ad17c-be02-445b-90d1-797e28946070",
   "metadata": {},
   "source": [
    "Using a simple bar chart @fig-1 we can see the countries that produced wines that were rated highest in the world for the year 2019. Only 7 of the 42 countries present in the dataset got perfect to near perfect scores. The US had the most wines in the top 100 list with a total of 37 rated at 98 and higher, followed by France and Italy. Breaking down the composition of each nation's wine by their scores @fig-2 we noticed that France had double the amount of perfect scoring wines then that of the US and Italy. Looking further into the distrubtions of ratings per the 4 most prevelant countries @fig-3 the US and France share a common distribution, only differing in french made wines median being marginally higher. Median's explain where a set's true middle ground is in regard to askew datasets. This only slightly promotes the idea that origin plays a factor on the quality of wine. This is further evident when we take into consideration that this dataset contains a vast majority of american wines compared to other countries: "
   ]
  },
  {
   "cell_type": "code",
   "execution_count": 28,
   "id": "257840bd-b9de-47c9-8e8a-75c7acdd9764",
   "metadata": {},
   "outputs": [],
   "source": [
    "#| output: false\n",
    "#| echo: false\n",
    "#-----------------------------------------------------------------------------------------------------------------------------------------------------------------------------------|\n",
    "#white_wine['Country'].value_counts()"
   ]
  },
  {
   "cell_type": "markdown",
   "id": "13d0a667-4609-4d2a-b796-a0336c3b040b",
   "metadata": {},
   "source": [
    "|Country      |Count  |\n",
    "|-------------|-------|\n",
    "|US           |  50222|\n",
    "|France       |  16237|\n",
    "|Italy        |  15490|\n",
    "|Spain        |   6032|\n",
    "|Portugal     |   4501|\n",
    "|Argentina    |   3501|\n",
    "|Australia    |   2167|\n",
    "|New Zealand  |   1240|\n",
    "|South Africa |   1195|\n",
    "|Greece       |    427|"
   ]
  },
  {
   "cell_type": "markdown",
   "id": "18f28b37-3550-4bfb-b2c3-43066e587127",
   "metadata": {},
   "source": [
    "## The Value of Wine\n",
    "\n",
    "The next feature we looked into was the price of wine."
   ]
  },
  {
   "cell_type": "code",
   "execution_count": 29,
   "id": "b4895da0-90d3-4ee2-835a-52f1b050575a",
   "metadata": {},
   "outputs": [],
   "source": [
    "#| output: false\n",
    "#| echo: false\n",
    "#-----------------------------------------------------------------------------------------------------------------------------------------------------------------------------------|\n",
    "# Dividing df by Range of Scores\n",
    "#-----------------------------------------------------------------------------------------------------------------------------------------------------------------------------------|\n",
    "wine_100 = wine_by_score.loc[wine_by_score['Score']==100]\n",
    "wine_99 = wine_by_score.loc[(wine_by_score['Score']<100) & (wine_by_score['Score']>95)]\n",
    "wine_95 = wine_by_score.loc[(wine_by_score['Score']<=95) & (wine_by_score['Score']>90)]\n",
    "wine_90 = wine_by_score.loc[(wine_by_score['Score']<=90) & (wine_by_score['Score']>85)]\n",
    "wine_85 = wine_by_score.loc[(wine_by_score['Score']<=85) & (wine_by_score['Score']>80)]\n",
    "wine_80 = wine_by_score.loc[wine_by_score['Score']<=80]\n",
    "\n",
    "top_half_wine_sorted = wine_by_score.iloc[:52356]\n",
    "bot_half_wine_sorted = wine_by_score.iloc[52357:]\n",
    "#-----------------------------------------------------------------------------------------------------------------------------------------------------------------------------------|\n",
    "## Conversions\n",
    "wine_100_prices = wine_100['Price'].to_numpy()\n",
    "wine_99_prices  =  wine_99['Price'].to_numpy()\n",
    "wine_95_prices  =  wine_95['Price'].to_numpy()\n",
    "wine_90_prices  =  wine_90['Price'].to_numpy()\n",
    "wine_85_prices  =  wine_85['Price'].to_numpy()\n",
    "wine_80_prices  =  wine_80['Price'].to_numpy()\n",
    "\n",
    "wine_100_scores = wine_100['Score'].to_numpy()\n",
    "wine_99_scores  =  wine_99['Score'].to_numpy()\n",
    "wine_95_scores  =  wine_95['Score'].to_numpy()\n",
    "wine_90_scores  =  wine_90['Score'].to_numpy()\n",
    "wine_85_scores  =  wine_85['Score'].to_numpy()\n",
    "wine_80_scores  =  wine_80['Score'].to_numpy()\n",
    "#-----------------------------------------------------------------------------------------------------------------------------------------------------------------------------------|\n",
    "\n",
    "score_divisions_price_avgs = {\n",
    "           \"100\": np.array([np.mean(wine_100_prices)]),\n",
    "         \"99-96\": np.array([np.mean(wine_99_prices)]),\n",
    "         \"95-91\": np.array([np.mean(wine_95_prices)]),\n",
    "         \"90-89\": np.array([np.mean(wine_90_prices)]),\n",
    "         \"88-85\": np.array([np.mean(wine_85_prices)]),\n",
    "    \"84 & Under\": np.array([np.mean(wine_80_prices)])\n",
    "}\n",
    "score_divisions_price_meds = {\n",
    "           \"100\": np.array([np.median(wine_100_prices)]),\n",
    "         \"99-96\": np.array([np.median(wine_99_prices)]),\n",
    "         \"95-91\": np.array([np.median(wine_95_prices)]),\n",
    "         \"90-89\": np.array([np.median(wine_90_prices)]),\n",
    "         \"88-85\": np.array([np.median(wine_85_prices)]),\n",
    "    \"84 & Under\": np.array([np.median(wine_80_prices)])\n",
    "}"
   ]
  },
  {
   "cell_type": "code",
   "execution_count": 36,
   "id": "a6e12436-9bcd-423b-949f-6b0353af802c",
   "metadata": {},
   "outputs": [
    {
     "data": {
      "image/png": "[encoded data removed]",
      "text/plain": [
       "<Figure size 640x480 with 1 Axes>"
      ]
     },
     "metadata": {},
     "output_type": "display_data"
    }
   ],
   "source": [
    "#| output: true\n",
    "#| echo: true\n",
    "#| label: fig-4\n",
    "#| fig-cap: \"Scatter plot of wine ratings by price\"\n",
    "#-----------------------------------------------------------------------------------------------------------------------------------------------------------------------------------|\n",
    "## Data\n",
    "scores = [wine_100_scores, wine_99_scores, wine_95_scores, wine_90_scores, wine_85_scores, wine_80_scores]\n",
    "values = [wine_100_prices, wine_99_prices, wine_95_prices, wine_90_prices, wine_85_prices, wine_80_prices]\n",
    "divisions = [\"100\", \"99-96\", \"95-91\", \"90-89\", \"88-85\", \"84 & Under\"]\n",
    "colors = ['red', 'hotpink', 'rosybrown', 'gold', 'chartreuse', 'royalblue']\n",
    "\n",
    "## Creating a scatter plot\n",
    "fig4, ax4 = plt.subplots()\n",
    "\n",
    "for s, v, c, div in zip(scores, values, colors, divisions):\n",
    "    plt.scatter(s, v, alpha=0.3, color=c, label=div)\n",
    "\n",
    "## Setting Options\n",
    "ax4.set_ylim(78, 102)\n",
    "ax4.set_yticks(range(0, 1700, 100))\n",
    "\n",
    "## Adding labels\n",
    "plt.xlabel(\"Score\")\n",
    "plt.ylabel(\"Price\")\n",
    "plt.title(\"Wine Scores vs Prices by Rating\")\n",
    "plt.legend()\n",
    "\n",
    "## Display the plot\n",
    "plt.show()"
   ]
  },
  {
   "cell_type": "markdown",
   "id": "766b3e4e-7a7c-439c-b215-b06a4f84616a",
   "metadata": {},
   "source": [
    "From the results we can see that while the price of a wine does play an influence in it's rating @fig-4. We noticed that while affordable wine under the 200 price point have been given high ratings even to the 100s it's a scarcity. Along with notion, the higher the rating a wine has the larger the range of prices increases.  "
   ]
  },
  {
   "cell_type": "markdown",
   "id": "a24c67e3-832f-47d3-ac4c-27bc3ea66ec1",
   "metadata": {},
   "source": [
    "## Simple Linear Regression"
   ]
  },
  {
   "cell_type": "markdown",
   "id": "85161fde-9082-459d-9139-e1c26cb88e29",
   "metadata": {},
   "source": [
    "Linear regression is a fundamental tool used to predict values based on a data set with 2 variables, one indepent, and the other dependent. The equation for simple linear regression takes on different forms depending on the context. $$y = mx + b $$ In the context of geometry or algebra. $$ \\hat{y} = b_0 + b_1 x_1 $$ In the context of statistics and data science."
   ]
  },
  {
   "cell_type": "markdown",
   "id": "ad5656cc-282b-4527-b38e-2d191210ff61",
   "metadata": {},
   "source": [
    "$\\hat{Y}$ represents the predicted value of our dependent variable.\n",
    "\n",
    "$B_0$ represents the y-intercept. The value of our dependent variable when our independent variable is zero. \n",
    "\n",
    "$B_1$ represents the slope. The rate of change in our dependent variable our independent variable.\n",
    "\n",
    "$x_1$ represents the independent value.\n",
    "\n",
    "Using this model we aim to find the best fit line to predict the value of a given wine by it's given rating."
   ]
  },
  {
   "cell_type": "markdown",
   "id": "b4547d47-4885-4b73-aa49-866048765fab",
   "metadata": {},
   "source": [
    "### Visualizing Best-Fit-Line"
   ]
  },
  {
   "cell_type": "code",
   "execution_count": 89,
   "id": "e7efa93d-c140-44ec-85fb-b5444e72596d",
   "metadata": {},
   "outputs": [
    {
     "data": {
      "image/png": "[encoded data removed]",
      "text/plain": [
       "<Figure size 800x500 with 1 Axes>"
      ]
     },
     "metadata": {},
     "output_type": "display_data"
    }
   ],
   "source": [
    "#| output: true\n",
    "#| echo: true\n",
    "#| label: fig-5\n",
    "#| fig-cap: \"Best Fit Line on Price vs Score\"\n",
    "#-----------------------------------------------------------------------------------------------------------------------------------------------------------------------------------|\n",
    "## Importing Library\n",
    "from sklearn.linear_model import LinearRegression\n",
    "\n",
    "## Preparing Dataframe\n",
    "white_wine.set_index('Score')['Price']\n",
    "\n",
    "## Defining variables\n",
    "X = white_wine[['Score']].values  # Independent Variable\n",
    "y = white_wine['Price'].values    # Dependent Variable\n",
    "\n",
    "## Creating Model\n",
    "lr = LinearRegression()\n",
    "lr.fit(X,y)\n",
    "### Predicts the price of wine based on it's score using model\n",
    "pred = lr.predict(X)  \n",
    "\n",
    "## Create the plot\n",
    "plt.figure(figsize=(8, 5))\n",
    "plt.scatter(X, y, color='gray', label='Actual data')\n",
    "plt.plot(X, pred, color='red', linewidth=2, label='Fitted line')\n",
    "\n",
    "## Setting Options\n",
    "### Display regression info on the plot\n",
    "slope = lr.coef_[0]\n",
    "r2 = lr.score(X, y)\n",
    "###\n",
    "res = f'Intercept: {intercept:.2f}\\nSlope: {slope:.2f}\\nR²: {r2:.3f}'\n",
    "\n",
    "## Adding Labels\n",
    "plt.title('Linear Regression: Price vs Score')\n",
    "plt.xlabel('Score')\n",
    "plt.ylabel('Price')\n",
    "plt.legend()\n",
    "### plt.(X-coord, Y-coord, Text, Interpret coords relative to axis, Fontsize, Color, Position, Add Border box around text)\n",
    "plt.text(\n",
    "    0.05, 0.95, textstr, transform=plt.gca().transAxes,\n",
    "    fontsize=14, color='white', verticalalignment='top',\n",
    "    bbox=dict(facecolor='firebrick', alpha=0.7, edgecolor='gray')\n",
    ")\n",
    "\n",
    "## Display the plot\n",
    "plt.show()"
   ]
  },
  {
   "cell_type": "markdown",
   "id": "f0c2435d-d492-434b-8d13-8d24d899071d",
   "metadata": {},
   "source": [
    "The results of this model showed us a few things. The slope tells us there is a positive trend. For every point in score we can expect an increase in price. However, our best fitting line @fig-5 for our dataset resulted in a low $R^2$. This explains that our model is only accurate with up to 17.3% of our data. Simply put our model is too inaccurate to predict the price of a given wine based on it's score. Other factors played a deeper role in this set. "
   ]
  },
  {
   "cell_type": "markdown",
   "id": "ccaccb7f-75e7-4a40-892c-a79b1a7442c9",
   "metadata": {},
   "source": [
    "## Conclusion\n",
    "\n",
    "Through our analysis we found that there is a slight positive trend correlating the price to higher wine ratings. However, due to huge variations of low priced wine getting high ratings meant more factors were at play such as the country of origin. European countries that have held long foundation of wine making such as France and Italy produce consistently high rated wines, compared to the US which had a larger variance of ratings. Thus, when shopping around for your next bottle of wine save yourself some money from buying an expensive french made wine in favor of some of the cheaper options as their quality could be comparable."
   ]
  },
  {
   "cell_type": "markdown",
   "id": "ee73d8f7-71a5-4be0-9b7b-cee101e883b1",
   "metadata": {},
   "source": [
    "---"
   ]
  },
  {
   "cell_type": "markdown",
   "id": "172e2a75-828d-4cc4-8084-571627c4a4d5",
   "metadata": {},
   "source": [
    "### References  "
   ]
  },
  {
   "cell_type": "markdown",
   "id": "72b60bfb-a14c-475b-9e01-063a546dc24f",
   "metadata": {},
   "source": [
    "---\n",
    "\n",
    "<p style=\"text-indent:-40px; margin-left:40px;\">\n",
    "R4DS Online Learning Community. (2018–present). <i>TidyTuesday: A weekly data project</i>. \n",
    "GitHub repository. Retrieved from \n",
    "<a href=\"https://github.com/rfordatascience/tidytuesday\">https://github.com/rfordatascience/tidytuesday</a>\n",
    "</p>\n",
    "\n",
    "<p style=\"text-indent:-40px; margin-left:40px;\">\n",
    "Waples, J. (2024, September 28). Simple linear regression: everything you need to know.\n",
    "    <a href=\"https://www.datacamp.com/tutorial/simple-linear-regression\">https://www.datacamp.com/tutorial/simple-linear-regression</a>\n",
    "</p>"
   ]
  }
 ],
 "metadata": {
  "kernelspec": {
   "display_name": "Python 3 (ipykernel)",
   "language": "python",
   "name": "python3"
  },
  "language_info": {
   "codemirror_mode": {
    "name": "ipython",
    "version": 3
   },
   "file_extension": ".py",
   "mimetype": "text/x-python",
   "name": "python",
   "nbconvert_exporter": "python",
   "pygments_lexer": "ipython3",
   "version": "3.13.7"
  }
 },
 "nbformat": 4,
 "nbformat_minor": 5
}
